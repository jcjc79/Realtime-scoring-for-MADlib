{
 "cells": [
  {
   "cell_type": "markdown",
   "metadata": {},
   "source": [
    "\n",
    "# RTSMADlib Demo\n",
    "\n",
    "## Random forest classifier Model Sample and Model deployment\n",
    "\n",
    "In this sample we demonstrate how to deploy a Apache MADlib model using RTSMADlib. We will be running the sample from Apache MADlib documentation https://madlib.apache.org/docs/latest/group__grp__random__forest.html#examples \n",
    "\n",
    "We will show how to deploy a model with multiple MADlib model tables and a customized return data from Model REST service\n",
    "\n",
    "### Pre-Requisites\n",
    "1. A running instance of Greenplum with MADlib\n",
    "2. In tasklet 1 and 14; \n",
    "   - Modify database connection parameters\n",
    "3. A runing insance of local docker environment\n",
    "\n",
    "### The notebook perform the below tasks\n",
    "\n",
    "1. Connect to greenplum and setup the session\n",
    "2. Create the schema and create all the tables needed, Load test the data to Greenpulm\n",
    "3. Build and train model\n",
    "4. Test Batch Score the model .\n",
    "5. Operationalize model with RTSMADlib\n",
    "6. Test Model REST Service\n",
    "7. Undeploy the Model container"
   ]
  },
  {
   "cell_type": "markdown",
   "metadata": {},
   "source": [
    "# Create SQL Connection to Greenplum"
   ]
  },
  {
   "cell_type": "code",
   "execution_count": null,
   "metadata": {},
   "outputs": [],
   "source": [
    "import psycopg2               # Python-PostgreSQL Database Adapter - https://pypi.python.org/pypi/psycopg2\n",
    "import pandas as pd           # Python Data Analysis Library - https://pandas.pydata.org/\n",
    "import math  \n",
    "import json\n",
    "\n",
    "%load_ext sql\n",
    "\n",
    "# PLEASE MODIFY THE BELOW AS PER YOUR GREENPLUM CLUSTER SETTINGS\n",
    "database_host = '{HOST}'\n",
    "database_databasename = '{DATABASE}'\n",
    "database_username = '{USER}'\n",
    "database_password = '{PASSWD}'\n",
    "database_port = '{PORT}'\n",
    "\n",
    "try:\n",
    "    connString = \"host='{}' dbname='{}' user='{}' password='{}' port={}\".format(database_host,database_databasename,database_username,database_password,database_port)\n",
    "    # print connString\n",
    "    conn = psycopg2.connect(connString)\n",
    "    cur = conn.cursor()\n",
    "    conn.autocommit = True\n",
    "        \n",
    "    connection = 'postgresql://{}:{}@{}:{}/{}'.format(database_username,database_password,database_host,database_port,database_databasename)\n",
    "    %sql $connection\n",
    "\n",
    "    message = \"<span style='color:green'>**Connection successful!**</span>\"\n",
    "    print(message)\n",
    "except Exception as e:\n",
    "    message = \"<span style='color:red'>**ERROR: Unable to connect to the database ({})**</span>\".format(e)\n",
    "    print(message)"
   ]
  },
  {
   "cell_type": "markdown",
   "metadata": {},
   "source": [
    "# Create Schema"
   ]
  },
  {
   "cell_type": "code",
   "execution_count": null,
   "metadata": {},
   "outputs": [],
   "source": [
    "%%sql\n",
    "\n",
    "DROP SCHEMA IF EXISTS madlib_demo CASCADE;\n",
    "CREATE SCHEMA madlib_demo;\n",
    "\n",
    "DROP TABLE IF EXISTS madlib_demo.rf_golf CASCADE;\n",
    "\n",
    "CREATE TABLE madlib_demo.rf_golf (\n",
    "    id integer NOT NULL,\n",
    "    \"OUTLOOK\" text,\n",
    "    temperature double precision,\n",
    "    humidity double precision,\n",
    "    \"Temp_Humidity\" double precision[],\n",
    "    clouds_airquality text[],\n",
    "    windy boolean,\n",
    "    class text\n",
    ");\n"
   ]
  },
  {
   "cell_type": "markdown",
   "metadata": {},
   "source": [
    "# Generate Sample data"
   ]
  },
  {
   "cell_type": "code",
   "execution_count": null,
   "metadata": {},
   "outputs": [],
   "source": [
    "%%sql\n",
    "INSERT INTO madlib_demo.rf_golf VALUES\n",
    "(1,'sunny', 85, 85, ARRAY[85, 85],ARRAY['none', 'unhealthy'], 'false','Don''t Play'),\n",
    "(2, 'sunny', 80, 90, ARRAY[80, 90], ARRAY['none', 'moderate'], 'true', 'Don''t Play'),\n",
    "(3, 'overcast', 83, 78, ARRAY[83, 78], ARRAY['low', 'moderate'], 'false', 'Play'),\n",
    "(4, 'rain', 70, 96, ARRAY[70, 96], ARRAY['low', 'moderate'], 'false', 'Play'),\n",
    "(5, 'rain', 68, 80, ARRAY[68, 80], ARRAY['medium', 'good'], 'false', 'Play'),\n",
    "(6, 'rain', 65, 70, ARRAY[65, 70], ARRAY['low', 'unhealthy'], 'true', 'Don''t Play'),\n",
    "(7, 'overcast', 64, 65, ARRAY[64, 65], ARRAY['medium', 'moderate'], 'true', 'Play'),\n",
    "(8, 'sunny', 72, 95, ARRAY[72, 95], ARRAY['high', 'unhealthy'], 'false', 'Don''t Play'),\n",
    "(9, 'sunny', 69, 70, ARRAY[69, 70], ARRAY['high', 'good'], 'false', 'Play'),\n",
    "(10, 'rain', 75, 80, ARRAY[75, 80], ARRAY['medium', 'good'], 'false', 'Play'),\n",
    "(11, 'sunny', 75, 70, ARRAY[75, 70], ARRAY['none', 'good'], 'true', 'Play'),\n",
    "(12, 'overcast', 72, 90, ARRAY[72, 90], ARRAY['medium', 'moderate'], 'true', 'Play'),\n",
    "(13, 'overcast', 81, 75, ARRAY[81, 75], ARRAY['medium', 'moderate'], 'false', 'Play'),\n",
    "(14, 'rain', 71, 80, ARRAY[71, 80], ARRAY['low', 'unhealthy'], 'true', 'Don''t Play');\n"
   ]
  },
  {
   "cell_type": "markdown",
   "metadata": {},
   "source": [
    "# Train model"
   ]
  },
  {
   "cell_type": "code",
   "execution_count": null,
   "metadata": {},
   "outputs": [],
   "source": [
    "%%sql\n",
    "DROP TABLE IF EXISTS madlib_demo.rf_train_output;\n",
    "DROP TABLE IF EXISTS madlib_demo.rf_train_output_group;\n",
    "DROP TABLE IF EXISTS madlib_demo.rf_train_output_summary;\n",
    "\n",
    "SELECT madlib.forest_train('madlib_demo.rf_golf',         -- source table\n",
    "                           'madlib_demo.rf_train_output',    -- output model table\n",
    "                           'id',              -- id column\n",
    "                           'class',           -- response\n",
    "                           '\"OUTLOOK\", temperature, humidity, windy',   -- features\n",
    "                           NULL,              -- exclude columns\n",
    "                           NULL,              -- grouping columns\n",
    "                           20::integer,       -- number of trees\n",
    "                           2::integer,        -- number of random features\n",
    "                           TRUE::boolean,     -- variable importance\n",
    "                           1::integer,        -- num_permutations\n",
    "                           8::integer,        -- max depth\n",
    "                           3::integer,        -- min split\n",
    "                           1::integer,        -- min bucket\n",
    "                           10::integer        -- number of splits per continuous variable\n",
    "                           );\n",
    "\n",
    "SELECT * FROM madlib_demo.rf_train_output_summary;\n",
    "\n",
    "DROP TABLE IF EXISTS madlib_demo.imp_output;\n",
    "SELECT madlib.get_var_importance('madlib_demo.rf_train_output','madlib_demo.imp_output');\n",
    "SELECT * FROM madlib_demo.imp_output ORDER BY oob_var_importance DESC;\n"
   ]
  },
  {
   "cell_type": "markdown",
   "metadata": {},
   "source": [
    "# Run Prediction on model"
   ]
  },
  {
   "cell_type": "code",
   "execution_count": null,
   "metadata": {},
   "outputs": [],
   "source": [
    "%%sql\n",
    "DROP TABLE IF EXISTS madlib_demo.prediction_results;\n",
    "\n",
    "SELECT madlib.forest_predict('madlib_demo.rf_train_output',        -- tree model\n",
    "                             'madlib_demo.rf_golf',             -- new data table\n",
    "                             'madlib_demo.prediction_results',  -- output table\n",
    "                             'response');           -- show response\n",
    "\n",
    "SELECT g.id, class, estimated_class \n",
    "FROM madlib_demo.prediction_results p,\n",
    "    madlib_demo.rf_golf g \n",
    "WHERE p.id = g.id ORDER BY g.id;"
   ]
  },
  {
   "cell_type": "markdown",
   "metadata": {},
   "source": [
    "# RTSMADlib\n",
    "Operationalize the model\n",
    "The MADlib model from Greenplum is containerized and deployed container management system. In this case we are using local docker environment. The rtsmadlib tool will take care of how to bundle, deploy and serve the model as REST endpoint."
   ]
  },
  {
   "cell_type": "code",
   "execution_count": null,
   "metadata": {},
   "outputs": [],
   "source": [
    "!rts4madlib --help"
   ]
  },
  {
   "cell_type": "markdown",
   "metadata": {},
   "source": [
    "# Deployment manifest of Model"
   ]
  },
  {
   "cell_type": "code",
   "execution_count": null,
   "metadata": {},
   "outputs": [],
   "source": [
    "import json\n",
    "myconfig=json.dumps ({\n",
    "  \"modeldb-datasource.jdbc-url\": \"jdbc:postgresql://{HOST}:{PORT}/{DATABASE}\",\n",
    "  \"modeldb-datasource.userName\": \"{USER}\",\n",
    "  \"modeldb-datasource.password\": \"{PASSWD}\",\n",
    "  \"madlibrest.modelname\": \"Random_Forest_Classification_Example\",\n",
    "  \"madlibrest.modeldescription\": \"Random Forest Classification Example\",\n",
    "  \"madlibrest.modelschema\": \"madlib_demo\",\n",
    "  \"madlibrest.modeltables\": [\n",
    "    \"rf_train_output\",\n",
    "    \"rf_train_output_group\",\n",
    "    \"rf_train_output_summary\"\n",
    "  ],\n",
    "  \"madlibrest.modelinputtable\": \"rf_golf\",\n",
    "  \"madlibrest.modelquery\": \"SELECT madlib.forest_predict('madlib_demo.rf_train_output', 'madlib_demo.rf_golf', 'madlib_demo.rf_prediction_results', 'prob')\",\n",
    "  \"madlibrest.resultstable\": \"rf_prediction_results\",\n",
    "  \"madlibrest.resultsquery\": \"SELECT g.id, class, \\\"estimated_prob_Don't Play\\\", \\\"estimated_prob_Play\\\" FROM madlib_demo.rf_prediction_results p, madlib_demo.rf_golf g WHERE p.id = g.id ORDER BY g.id\"\n",
    "}\n",
    ")\n",
    "\n",
    "\n",
    "with open(\"model-config.json\", \"w\") as f:\n",
    "    f.write(myconfig)\n",
    "    "
   ]
  },
  {
   "cell_type": "markdown",
   "metadata": {},
   "source": [
    "# Deploy"
   ]
  },
  {
   "cell_type": "code",
   "execution_count": null,
   "metadata": {},
   "outputs": [],
   "source": [
    "! rts4madlib --name golfrf --action deploy --type madlib-model --target docker --inputJson model-config.json"
   ]
  },
  {
   "cell_type": "markdown",
   "metadata": {},
   "source": [
    "# Testing - RTSMADlib container\n",
    "The log files of deployment should show the service end points container. We use the endpoint to test. The below tests the information end point on the model container."
   ]
  },
  {
   "cell_type": "code",
   "execution_count": null,
   "metadata": {},
   "outputs": [],
   "source": [
    "! curl -v -H \"Content-Type:application/json\" http://127.0.0.1:8087/actuator/info"
   ]
  },
  {
   "cell_type": "code",
   "execution_count": null,
   "metadata": {},
   "outputs": [],
   "source": [
    "! curl -v -H \"Content-Type:application/json\" -X POST http://localhost:8087/predict -d '{\"id\":2,\"OUTLOOK\":\"overcast\",\"temperature\":64.00,\"humidity\":65.00,\"windy\":true,\"class\":\"Play\"}'"
   ]
  },
  {
   "cell_type": "markdown",
   "metadata": {},
   "source": [
    "# Undeploy Model"
   ]
  },
  {
   "cell_type": "code",
   "execution_count": null,
   "metadata": {},
   "outputs": [],
   "source": [
    "! rts4madlib --name golfrf --action undeploy --type madlib-model --target docker"
   ]
  },
  {
   "cell_type": "code",
   "execution_count": null,
   "metadata": {},
   "outputs": [],
   "source": [
    "!docker ps"
   ]
  },
  {
   "cell_type": "markdown",
   "metadata": {},
   "source": [
    "Thank you!"
   ]
  }
 ],
 "metadata": {
  "kernelspec": {
   "display_name": "Python 3",
   "language": "python",
   "name": "python3"
  },
  "language_info": {
   "codemirror_mode": {
    "name": "ipython",
    "version": 3
   },
   "file_extension": ".py",
   "mimetype": "text/x-python",
   "name": "python",
   "nbconvert_exporter": "python",
   "pygments_lexer": "ipython3",
   "version": "3.7.1"
  }
 },
 "nbformat": 4,
 "nbformat_minor": 2
}
