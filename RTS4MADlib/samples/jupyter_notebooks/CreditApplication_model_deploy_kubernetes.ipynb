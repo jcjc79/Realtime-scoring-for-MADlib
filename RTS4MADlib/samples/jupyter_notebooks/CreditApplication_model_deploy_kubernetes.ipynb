{
 "cells": [
  {
   "cell_type": "markdown",
   "metadata": {},
   "source": [
    "# # RTSMADlib Demo\n",
    "\n",
    "## Simple Credit Application Model and deployment\n",
    "\n",
    "In this sample we demonstrate a credit application approval probability model using Random Forest. The application demonstrates the feature generation and model invocation realtime. so the payload from the client applications is passed thru a chain. The feature engine will take the raw input and creates feature set for model and then model is used to make a prediction. The model is deployed as workflow. There will be an orchestrator component, a feature engine, a model. The orchestrator component is reponsible to run the flow.\n",
    "\n",
    "### Pre-Requisites\n",
    "1. A running instance of Greenplum with MADlib\n",
    "2. A running instance of kubernetes environment\n",
    "3. Modify database connection parameters whereever we see place holders\n",
    "\n",
    "### The notebook perform the below tasks\n",
    "\n",
    "1. Connect to greenplum and setup the session\n",
    "2. Create the schema and create all the tables needed, Load test the data to Greenpulm\n",
    "3. Build and train model\n",
    "4. Test Batch Score the model .\n",
    "5. Operationalize model with RTSMADlib\n",
    "6. Test the ML flow Service\n",
    "7. Undeploy ML flow application containers."
   ]
  },
  {
   "cell_type": "markdown",
   "metadata": {},
   "source": [
    "# connect to Greenplum"
   ]
  },
  {
   "cell_type": "code",
   "execution_count": null,
   "metadata": {},
   "outputs": [],
   "source": [
    "import psycopg2               # Python-PostgreSQL Database Adapter - https://pypi.python.org/pypi/psycopg2\n",
    "import pandas as pd           # Python Data Analysis Library - https://pandas.pydata.org/\n",
    "import math  \n",
    "import json\n",
    "\n",
    "%load_ext sql\n",
    "\n",
    "# PLEASE MODIFY THE BELOW AS PER YOUR GREENPLUM CLUSTER SETTINGS\n",
    "database_host = '35.196.46.152'\n",
    "database_databasename = 'gpadmin'\n",
    "database_username = 'gpadmin'\n",
    "database_password = 'qg7lGPyhxEQmj'\n",
    "database_port = '5432'\n",
    "\n",
    "try:\n",
    "    connString = \"host='{}' dbname='{}' user='{}' password='{}' port={}\".format(database_host,database_databasename,database_username,database_password,database_port)\n",
    "    # print connString\n",
    "    conn = psycopg2.connect(connString)\n",
    "    cur = conn.cursor()\n",
    "    conn.autocommit = True\n",
    "        \n",
    "    connection = 'postgresql://{}:{}@{}:{}/{}'.format(database_username,database_password,database_host,database_port,database_databasename)\n",
    "    %sql $connection\n",
    "\n",
    "    message = \"<span style='color:green'>**Connection successful!**</span>\"\n",
    "    print(message)\n",
    "except Exception as e:\n",
    "    message = \"<span style='color:red'>**ERROR: Unable to connect to the database ({})**</span>\".format(e)\n",
    "    print(message) "
   ]
  },
  {
   "cell_type": "markdown",
   "metadata": {},
   "source": [
    "# Schema Creation "
   ]
  },
  {
   "cell_type": "code",
   "execution_count": null,
   "metadata": {},
   "outputs": [],
   "source": [
    "%%sql\n",
    "\n",
    "/*\n",
    "Credit Application Approval Model\n",
    "jvawdrey@pivotal.io\n",
    "*/\n",
    "\n",
    "DROP SCHEMA IF EXISTS credit CASCADE;\n",
    "CREATE SCHEMA credit;\n",
    "\n",
    "\n",
    " -- Create table via external source;\n",
    "DROP EXTERNAL TABLE IF EXISTS credit.credit_application_external;\n",
    "CREATE EXTERNAL WEB TABLE credit.credit_application_external (\n",
    "    a1 varchar(1)\n",
    "   ,a2 float\n",
    "   ,a3 float\n",
    "   ,a4 varchar(1)\n",
    "   ,a5 varchar(2)\n",
    "   ,a6 varchar(2)\n",
    "   ,a7 varchar(2)\n",
    "   ,a8 float\n",
    "   ,a9 boolean\n",
    "   ,a10 boolean\n",
    "   ,a11 float\n",
    "   ,a12 boolean\n",
    "   ,a13 varchar(1)\n",
    "   ,a14 float\n",
    "   ,a15 float\n",
    "   ,a16 varchar(1)\n",
    ") LOCATION ('http://archive.ics.uci.edu/ml/machine-learning-databases/credit-screening/crx.data')\n",
    "FORMAT 'CSV'\n",
    "(NULL AS '?');"
   ]
  },
  {
   "cell_type": "markdown",
   "metadata": {},
   "source": [
    "# Impute in missing values"
   ]
  },
  {
   "cell_type": "code",
   "execution_count": null,
   "metadata": {},
   "outputs": [],
   "source": [
    "%%sql\n",
    "DROP TABLE IF EXISTS credit.credit_application_data;\n",
    "CREATE TABLE credit.credit_application_data AS\n",
    "SELECT row_number() OVER() AS _id\n",
    "      ,coalesce(a1,'b') AS a1\n",
    "      ,coalesce(a2, avg(a2) OVER()) AS a2\n",
    "      ,coalesce(a3, avg(a3) OVER()) AS a3\n",
    "      ,coalesce(a4, 'u') AS a4\n",
    "      ,coalesce(a5, 'g') AS a5\n",
    "      ,coalesce(a6, 'c') AS a6\n",
    "      ,coalesce(a7, 'v') AS a7\n",
    "      ,coalesce(a8, avg(a8) OVER()) AS a8\n",
    "      ,coalesce(a9, True) AS a9\n",
    "      ,coalesce(a10, False) AS a10\n",
    "      ,coalesce(a11, 0) AS a11\n",
    "      ,coalesce(a12, False) AS a12\n",
    "      ,coalesce(a13, 'g') AS a13\n",
    "      ,coalesce(a14, avg(a14) OVER()) AS a14\n",
    "      ,coalesce(a15, avg(a15) OVER()) AS a15\n",
    "      ,CASE WHEN a16 = '+' THEN 1 ELSE 0 END AS a16\n",
    "FROM credit.credit_application_external\n",
    "DISTRIBUTED RANDOMLY;\n"
   ]
  },
  {
   "cell_type": "markdown",
   "metadata": {},
   "source": [
    "#   Continous model inputs"
   ]
  },
  {
   "cell_type": "code",
   "execution_count": null,
   "metadata": {},
   "outputs": [],
   "source": [
    "%%sql\n",
    "DROP TABLE IF EXISTS credit.model_inputs_cont;\n",
    "CREATE TABLE credit.model_inputs_cont AS\n",
    "SELECT _id\n",
    "      ,a16 AS approval\n",
    "      ,a2\n",
    "      ,a3\n",
    "      ,a8\n",
    "      ,a11\n",
    "      ,a14\n",
    "      ,a15\n",
    "FROM credit.credit_application_data\n",
    "DISTRIBUTED BY (_id);\n",
    "\n",
    "SELECT * FROM credit.model_inputs_cont LIMIT 10;"
   ]
  },
  {
   "cell_type": "markdown",
   "metadata": {},
   "source": [
    "#  Categorical model inputs"
   ]
  },
  {
   "cell_type": "code",
   "execution_count": null,
   "metadata": {},
   "outputs": [],
   "source": [
    "%%sql\n",
    "DROP TABLE IF EXISTS credit.model_inputs_cat;\n",
    "SELECT madlib.encode_categorical_variables (\n",
    "    'credit.credit_application_data',\n",
    "    'credit.model_inputs_cat',\n",
    "    'a1,a4,a5,a6,a7,a9,a10,a12,a13',\n",
    "    NULL,\n",
    "    '_id',\n",
    "    NULL,\n",
    "    'a1=b, a4=y, a5=p, a6=x, a7=z, a9=false, a10=false, a12=false, a13=s'\n",
    ");\n",
    "\n",
    "select * from credit.model_inputs_cat;"
   ]
  },
  {
   "cell_type": "markdown",
   "metadata": {},
   "source": [
    "# Combine model tables"
   ]
  },
  {
   "cell_type": "code",
   "execution_count": null,
   "metadata": {},
   "outputs": [],
   "source": [
    "%%sql \n",
    "DROP TABLE IF EXISTS credit.model_inputs;\n",
    "CREATE TABLE credit.model_inputs AS\n",
    "SELECT *\n",
    "FROM credit.model_inputs_cat\n",
    "JOIN credit.model_inputs_cont\n",
    "USING (_id);\n",
    "\n",
    "select * from credit.model_inputs;"
   ]
  },
  {
   "cell_type": "markdown",
   "metadata": {},
   "source": [
    "# Split traing and test data."
   ]
  },
  {
   "cell_type": "code",
   "execution_count": null,
   "metadata": {},
   "outputs": [],
   "source": [
    "%%sql\n",
    "DROP TABLE IF EXISTS credit.model\n",
    "                    ,credit.model_train\n",
    "                    ,credit.model_test;\n",
    "SELECT madlib.train_test_split(\n",
    "    'credit.model_inputs',\n",
    "    'credit.model',\n",
    "    0.7,\n",
    "    NULL,\n",
    "    NULL,\n",
    "    '*',\n",
    "    FALSE,\n",
    "    TRUE\n",
    ");\n"
   ]
  },
  {
   "cell_type": "markdown",
   "metadata": {},
   "source": [
    "# Train random forest model"
   ]
  },
  {
   "cell_type": "code",
   "execution_count": null,
   "metadata": {},
   "outputs": [],
   "source": [
    "%%sql\n",
    "\n",
    "DROP TABLE IF EXISTS credit.rf_model, credit.rf_model_summary, credit.rf_model_group;\n",
    "SELECT madlib.forest_train(\n",
    "        'credit.model_train',\n",
    "        'credit.rf_model',\n",
    "        '_id',\n",
    "        'approval',\n",
    "        'a2,a3,a8,a11,a14,a15,a1_a,a4_l,a4_u,a5_g,a5_gg,a6_aa,a6_c,a6_cc,a6_d,a6_e,a6_ff,a6_i,a6_j,a6_k,a6_m,a6_q,a6_r,a6_w,a7_bb,a7_dd,a7_ff,a7_h,a7_j,a7_n,a7_o,a7_v,a9_true,a10_true,a12_true,a13_g,a13_p',\n",
    "        null,\n",
    "        null,\n",
    "        10::integer,\n",
    "        5::integer,\n",
    "        true::boolean,\n",
    "        5::integer,\n",
    "        10::integer,\n",
    "        3::integer,\n",
    "        1::integer,\n",
    "        10::integer\n",
    "    );"
   ]
  },
  {
   "cell_type": "markdown",
   "metadata": {},
   "source": [
    "# Score test data"
   ]
  },
  {
   "cell_type": "code",
   "execution_count": null,
   "metadata": {},
   "outputs": [],
   "source": [
    "%%sql\n",
    "\n",
    "DROP TABLE IF EXISTS credit.model_test_scored;\n",
    "SELECT madlib.forest_predict('credit.rf_model',\n",
    "                             'credit.model_test',\n",
    "                             'credit.model_test_scored',\n",
    "                             'prob');\n",
    "\n",
    "-- Combine scores with original table\n",
    "DROP TABLE IF EXISTS credit.model_test_scored_tmp;\n",
    "CREATE TABLE credit.model_test_scored_tmp AS\n",
    "SELECT *\n",
    "FROM credit.model_test_scored\n",
    "JOIN credit.model_test\n",
    "USING (_id);\n",
    "DROP TABLE credit.model_test_scored;\n",
    "ALTER TABLE credit.model_test_scored_tmp RENAME TO model_test_scored;\n",
    "\n",
    "\n",
    "-- Calculate AUC\n",
    "DROP TABLE IF EXISTS credit.model_test_scored_auc;\n",
    "SELECT madlib.area_under_roc(\n",
    "    'credit.model_test_scored'\n",
    "   ,'credit.model_test_scored_auc'\n",
    "   ,'estimated_prob_1'\n",
    "   ,'approval'\n",
    ");\n",
    "SELECT *\n",
    "FROM credit.model_test_scored_auc;"
   ]
  },
  {
   "cell_type": "markdown",
   "metadata": {},
   "source": [
    "# Feature Engineering"
   ]
  },
  {
   "cell_type": "code",
   "execution_count": null,
   "metadata": {},
   "outputs": [],
   "source": [
    "%%sql\n",
    "DROP TABLE IF EXISTS credit.model_train;\n",
    "CREATE TABLE credit.model_train AS\n",
    "SELECT 1 AS _id,a2,a3,a8,a11,a14,a15,\n",
    "       CASE WHEN a1 = 'a' THEN 1 ELSE 0 END AS a1_a, \n",
    "       CASE WHEN a4 = 'l' THEN 1 ELSE 0 END AS a4_l, \n",
    "       CASE WHEN a4 = 'u' THEN 1 ELSE 0 END AS a4_u, \n",
    "       CASE WHEN a5 = 'g' THEN 1 ELSE 0 END AS a5_g, \n",
    "       CASE WHEN a5 = 'gg' THEN 1 ELSE 0 END AS a5_gg, \n",
    "       CASE WHEN a6 = 'aa' THEN 1 ELSE 0 END AS a6_aa, \n",
    "       CASE WHEN a6 = 'cc' THEN 1 ELSE 0 END AS a6_cc, \n",
    "       CASE WHEN a6 = 'd' THEN 1 ELSE 0 END AS a6_d, \n",
    "       CASE WHEN a6 = 'ff' THEN 1 ELSE 0 END AS a6_ff, \n",
    "       CASE WHEN a6 = 'j' THEN 1 ELSE 0 END AS a6_j, \n",
    "       CASE WHEN a6 = 'r' THEN 1 ELSE 0 END AS a6_r, \n",
    "       CASE WHEN a6 = 'c' THEN 1 ELSE 0 END AS a6_c, \n",
    "       CASE WHEN a6 = 'e' THEN 1 ELSE 0 END AS a6_e, \n",
    "       CASE WHEN a6 = 'i' THEN 1 ELSE 0 END AS a6_i, \n",
    "       CASE WHEN a6 = 'k' THEN 1 ELSE 0 END AS a6_k, \n",
    "       CASE WHEN a6 = 'm' THEN 1 ELSE 0 END AS a6_m, \n",
    "       CASE WHEN a6 = 'q' THEN 1 ELSE 0 END AS a6_q, \n",
    "       CASE WHEN a6 = 'w' THEN 1 ELSE 0 END AS a6_w, \n",
    "       CASE WHEN a7 = 'bb' THEN 1 ELSE 0 END AS a7_bb, \n",
    "       CASE WHEN a7 = 'dd' THEN 1 ELSE 0 END AS a7_dd, \n",
    "       CASE WHEN a7 = 'ff' THEN 1 ELSE 0 END AS a7_ff, \n",
    "       CASE WHEN a7 = 'h' THEN 1 ELSE 0 END AS a7_h, \n",
    "       CASE WHEN a7 = 'j' THEN 1 ELSE 0 END AS a7_j, \n",
    "       CASE WHEN a7 = 'n' THEN 1 ELSE 0 END AS a7_n, \n",
    "       CASE WHEN a7 = 'v' THEN 1 ELSE 0 END AS a7_v, \n",
    "       CASE WHEN a7 = 'o' THEN 1 ELSE 0 END AS a7_o, \n",
    "       CASE WHEN a9 = 'True' THEN 1 ELSE 0 END AS a9_True, \n",
    "       CASE WHEN a10 = 'True' THEN 1 ELSE 0 END AS a10_True, \n",
    "       CASE WHEN a12 = 'True' THEN 1 ELSE 0 END AS a12_True, \n",
    "       CASE WHEN a13 = 'p' THEN 1 ELSE 0 END AS a13_p, \n",
    "       CASE WHEN a13 = 'g' THEN 1 ELSE 0 END AS a13_g\n",
    "\n",
    "FROM (\n",
    "  SELECT coalesce(a1,'b') AS a1\n",
    "        ,coalesce(a2, avg(a2) OVER()) AS a2\n",
    "        ,coalesce(a3, avg(a3) OVER()) AS a3\n",
    "        ,coalesce(a4, 'u') AS a4\n",
    "        ,coalesce(a5, 'g') AS a5\n",
    "        ,coalesce(a6, 'c') AS a6\n",
    "        ,coalesce(a7, 'v') AS a7\n",
    "        ,coalesce(a8, avg(a8) OVER()) AS a8\n",
    "        ,coalesce(a9, True) AS a9\n",
    "        ,coalesce(a10, False) AS a10\n",
    "        ,coalesce(a11, 0) AS a11\n",
    "        ,coalesce(a12, False) AS a12\n",
    "        ,coalesce(a13, 'g') AS a13\n",
    "        ,coalesce(a14, avg(a14) OVER()) AS a14\n",
    "        ,coalesce(a15, avg(a15) OVER()) AS a15\n",
    "        ,CASE WHEN a16 = '+' THEN 1 ELSE 0 END AS a16\n",
    "FROM (\n",
    "    -- Change to select from 'message table'\n",
    "    -- For example selecting random record from original data for scoring\n",
    "    SELECT *\n",
    "    FROM credit.credit_application_external\n",
    "    ORDER BY random()\n",
    "  ) foo\n",
    ") bar\n",
    "distributed RANDOMLY;"
   ]
  },
  {
   "cell_type": "markdown",
   "metadata": {},
   "source": [
    "# Prediction"
   ]
  },
  {
   "cell_type": "code",
   "execution_count": null,
   "metadata": {},
   "outputs": [],
   "source": [
    "%%sql\n",
    "DROP TABLE IF EXISTS credit.scored_results;\n",
    "\n",
    "SELECT madlib.forest_predict('credit.rf_model','credit.model_inputs','credit.scored_results','prob');\n",
    "\n",
    "SELECT estimated_prob_1, estimated_prob_0 FROM credit.scored_results limit 10;\n"
   ]
  },
  {
   "cell_type": "markdown",
   "metadata": {},
   "source": [
    "# RTSMADlib\n",
    "Operationalize the model\n",
    "The MADlib model from Greenplum is containerized and deployed container management system. In this case we are using local docker environment. The rtsmadlib tool will take care of how to bundle, deploy and serve the model as REST endpoint."
   ]
  },
  {
   "cell_type": "code",
   "execution_count": 62,
   "metadata": {},
   "outputs": [
    {
     "name": "stdout",
     "output_type": "stream",
     "text": [
      "usage: rts4madlib [-h] [--name NAME] [--action {deploy,undeploy}]\r\n",
      "                  [--type {flow,model,feature-engine,featurecache,batch}]\r\n",
      "                  [--target {docker,kubernetes}] [--inputJson [INPUTJSON]]\r\n",
      "\r\n",
      "optional arguments:\r\n",
      "  -h, --help            show this help message and exit\r\n",
      "  --name NAME           unique name for module\r\n",
      "  --action {deploy,undeploy}\r\n",
      "  --type {flow,model,feature-engine,featurecache,batch}\r\n",
      "  --target {docker,kubernetes}\r\n",
      "  --inputJson [INPUTJSON]\r\n",
      "                        input for corresponding module\r\n"
     ]
    }
   ],
   "source": [
    "!rts4madlib --help"
   ]
  },
  {
   "cell_type": "markdown",
   "metadata": {},
   "source": [
    "# Deployment Manifest"
   ]
  },
  {
   "cell_type": "code",
   "execution_count": 71,
   "metadata": {},
   "outputs": [],
   "source": [
    "#  deployment specification for madlib model\n",
    "model=  {\n",
    "\"modeldb-datasource.jdbc-url\": \"jdbc:postgresql://35.196.46.152:5432/gpadmin\",\n",
    "\t\t\"modeldb-datasource.userName\": \"gpadmin\",\n",
    "\t\t\"modeldb-datasource.password\": \"qg7lGPyhxEQmj\",\n",
    "\t\t\"madlibrest.modelname\": \"Credit Approval Random Forest model\",\n",
    "\t\t\"madlibrest.modeldescription\": \"Credit Approval Random Forest Classification Example\",\n",
    "\t\t\"madlibrest.modelschema\": \"credit\",\n",
    "\t\t\"madlibrest.modeltables\": [\n",
    "\t\t\t\"rf_model\",\n",
    "\t\t\t\"rf_model_group\",\n",
    "\t\t\t\"rf_model_summary\"\n",
    "\t\t],\n",
    "\t\t\"madlibrest.modelinputtable\": \"model_inputs\",\n",
    "\t\t\"madlibrest.modelquery\": \"SELECT madlib.forest_predict('credit.rf_model','credit.model_inputs','credit.scored_results','prob')\",\n",
    "\t\t\"madlibrest.resultstable\": \"scored_results\",\n",
    "\t\t\"madlibrest.resultsquery\": \"SELECT estimated_prob_1, estimated_prob_0 FROM credit.scored_results;\"\n",
    "\t}"
   ]
  },
  {
   "cell_type": "code",
   "execution_count": 72,
   "metadata": {},
   "outputs": [],
   "source": [
    "#  deployment specification for madlib feature engine\n",
    "\n",
    "featuresengine =  {\n",
    "  \"spring.profiles.active\": \"nocache\",\n",
    "  \"modeldb-datasource\": {\n",
    "    \"jdbc-url\": \"jdbc:postgresql://35.196.46.152:5432/gpadmin\",\n",
    "    \"userName\": \"gpadmin\",\n",
    "    \"password\": \"qg7lGPyhxEQmj\"\n",
    "  },\n",
    "  \"feature-engine\": {\n",
    "    \"featurename\": \"CreditApplicationFeatures\",\n",
    "    \"featuredescription\": \"Credit Application Feature engine\",\n",
    "    \"featuresschema\": \"credit\",\n",
    "    \"payloadtable\": \"message\",\n",
    "    \"featurequery\": \"SELECT 1 AS _id,a2,a3,a8,a11,a14,a15, CASE WHEN a1 = 'a' THEN 1 ELSE 0 END AS a1_a, CASE WHEN a4 = 'l' THEN 1 ELSE 0 END AS a4_l, CASE WHEN a4 = 'u' THEN 1 ELSE 0 END AS a4_u, CASE WHEN a5 = 'g' THEN 1 ELSE 0 END AS a5_g, CASE WHEN a5 = 'gg' THEN 1 ELSE 0 END AS a5_gg, CASE WHEN a6 = 'aa' THEN 1 ELSE 0 END AS a6_aa, CASE WHEN a6 = 'cc' THEN 1 ELSE 0 END AS a6_cc, CASE WHEN a6 = 'd' THEN 1 ELSE 0 END AS a6_d, CASE WHEN a6 = 'ff' THEN 1 ELSE 0 END AS a6_ff, CASE WHEN a6 = 'j' THEN 1 ELSE 0 END AS a6_j, CASE WHEN a6 = 'r' THEN 1 ELSE 0 END AS a6_r, CASE WHEN a6 = 'c' THEN 1 ELSE 0 END AS a6_c, CASE WHEN a6 = 'e' THEN 1 ELSE 0 END AS a6_e, CASE WHEN a6 = 'i' THEN 1 ELSE 0 END AS a6_i, CASE WHEN a6 = 'k' THEN 1 ELSE 0 END AS a6_k, CASE WHEN a6 = 'm' THEN 1 ELSE 0 END AS a6_m, CASE WHEN a6 = 'q' THEN 1 ELSE 0 END AS a6_q, CASE WHEN a6 = 'w' THEN 1 ELSE 0 END AS a6_w, CASE WHEN a7 = 'bb' THEN 1 ELSE 0 END AS a7_bb, CASE WHEN a7 = 'dd' THEN 1 ELSE 0 END AS a7_dd, CASE WHEN a7 = 'ff' THEN 1 ELSE 0 END AS a7_ff, CASE WHEN a7 = 'h' THEN 1 ELSE 0 END AS a7_h, CASE WHEN a7 = 'j' THEN 1 ELSE 0 END AS a7_j, CASE WHEN a7 = 'n' THEN 1 ELSE 0 END AS a7_n, CASE WHEN a7 = 'v' THEN 1 ELSE 0 END AS a7_v, CASE WHEN a7 = 'o' THEN 1 ELSE 0 END AS a7_o, CASE WHEN a9 = 'True' THEN 1 ELSE 0 END AS a9_True, CASE WHEN a10 = 'True' THEN 1 ELSE 0 END AS a10_True, CASE WHEN a12 = 'True' THEN 1 ELSE 0 END AS a12_True, CASE WHEN a13 = 'p' THEN 1 ELSE 0 END AS a13_p, CASE WHEN a13 = 'g' THEN 1 ELSE 0 END AS a13_g FROM ( SELECT coalesce(a1,'b') AS a1 ,coalesce(a2, avg(a2) OVER()) AS a2 ,coalesce(a3, avg(a3) OVER()) AS a3 ,coalesce(a4, 'u') AS a4 ,coalesce(a5, 'g') AS a5 ,coalesce(a6, 'c') AS a6 ,coalesce(a7, 'v') AS a7 ,coalesce(a8, avg(a8) OVER()) AS a8 ,coalesce(a9, 'True') AS a9 ,coalesce(a10, 'False') AS a10 ,coalesce(a11, 0) AS a11 ,coalesce(a12, 'False') AS a12 ,coalesce(a13, 'g') AS a13 ,coalesce(a14, avg(a14) OVER()) AS a14 ,coalesce(a15, avg(a15) OVER()) AS a15 ,CASE WHEN a16 = '+' THEN 1 ELSE 0 END AS a16 FROM ( SELECT * FROM credit.message ) t1 ) t2\",\n",
    "    \"cacheenabled\": \"false\",\n",
    "    \"cacheentities\": {\n",
    "      \"key\": \"val1\"\n",
    "    }\n",
    "  }\n",
    "}"
   ]
  },
  {
   "cell_type": "code",
   "execution_count": 73,
   "metadata": {},
   "outputs": [],
   "source": [
    "myconfig=json.dumps ({\n",
    "\t\"deploy-packages\": [\n",
    "\t\t\"model\",\n",
    "\t\t\"feature-engine\"\n",
    "\t],\n",
    "\t\"model\": model,\n",
    "\t\"feature-engine\": featuresengine\n",
    "  }\n",
    ")\n",
    "\n",
    "\n",
    "with open(\"config.json\", \"w\") as f:\n",
    "    f.write(myconfig)\n",
    "    "
   ]
  },
  {
   "cell_type": "code",
   "execution_count": 77,
   "metadata": {},
   "outputs": [
    {
     "name": "stdout",
     "output_type": "stream",
     "text": [
      "Deploying Credit Model to kubernetes......\n",
      "deployName => credit-app-v1\n",
      "\n",
      "\n",
      "processing deployment package =>model\n",
      "Deploying credit-app-v1-rts-for-madlib-model container to kubernetes ..........\n",
      "deleting any old service configurations.....\n",
      "Error from server (NotFound): configmaps \"credit-app-v1-rts-for-madlib-model-config\" not found\n",
      "No existing configuration found. Continuing....\n",
      "creating new service configuration.....\n",
      "configmap/credit-app-v1-rts-for-madlib-model-config created\n",
      "creating the deployment .....\n",
      "deployment.apps/credit-app-v1-rts-for-madlib-model created\n",
      "service/credit-app-v1-rts-for-madlib-model created\n",
      "Polling for pod <credit-app-v1-rts-for-madlib-model>'s running status ........\n",
      "Status => ContainerCreating\n",
      "\n",
      "Status => Running\n",
      "POD NAME => credit-app-v1-rts-for-madlib-model-66d5866bdb-rvl57\n",
      "\n",
      "Provisioning is finished.\n",
      "\n",
      "\n",
      "processing deployment package =>feature-engine\n",
      "Deploying credit-app-v1-rts-for-madlib-featuresengine container to kubernetes ..........\n",
      "deleting any old service configurations.....\n",
      "Error from server (NotFound): configmaps \"credit-app-v1-rts-for-madlib-featuresengine-config\" not found\n",
      "No existing configuration found. Continuing....\n",
      "creating new service configuration.....\n",
      "configmap/credit-app-v1-rts-for-madlib-featuresengine-config created\n",
      "creating the deployment .....\n",
      "deployment.apps/credit-app-v1-rts-for-madlib-featuresengine created\n",
      "service/credit-app-v1-rts-for-madlib-featuresengine created\n",
      "Polling for pod <credit-app-v1-rts-for-madlib-featuresengine>'s running status ........\n",
      "Status => ContainerCreating\n",
      "\n",
      "Status => Running\n",
      "POD NAME => credit-app-v1-rts-for-madlib-featuresengine-5f797865b7-9d5sq\n",
      "\n",
      "Provisioning is finished.\n",
      "****** Service End points *******\n",
      "{\"app.model-endpoint\": \"http://credit-app-v1-rts-for-madlib-model:8085/predict\", \"app.feature-engine-endpoint\": \"http://credit-app-v1-rts-for-madlib-featuresengine:8086/features/calculate\"}\n",
      "Deploying credit-app-v1-rts-for-madlib-mlmodelflow container to kubernetes ..........\n",
      "deleting any old service configurations.....\n",
      "Error from server (NotFound): configmaps \"credit-app-v1-rts-for-madlib-mlmodelflow-config\" not found\n",
      "No existing configuration found. Continuing....\n",
      "creating new service configuration.....\n",
      "configmap/credit-app-v1-rts-for-madlib-mlmodelflow-config created\n",
      "creating the deployment .....\n",
      "deployment.apps/credit-app-v1-rts-for-madlib-mlmodelflow created\n",
      "service/credit-app-v1-rts-for-madlib-mlmodelflow created\n",
      "Polling for pod <credit-app-v1-rts-for-madlib-mlmodelflow>'s running status ........\n",
      "Status => ContainerCreating\n",
      "\n",
      "Status => Running\n",
      "POD NAME => credit-app-v1-rts-for-madlib-mlmodelflow-5d6c4bc85-qpdch\n",
      "\n",
      "Provisioning is finished.\n"
     ]
    }
   ],
   "source": [
    "! echo \"Deploying Credit Model to kubernetes......\"\n",
    "! source ~/.bash_profile\n",
    "! rts4madlib --name credit-app-v1 --type flow --target kubernetes --action deploy --inputJson  config.json"
   ]
  },
  {
   "cell_type": "code",
   "execution_count": 83,
   "metadata": {},
   "outputs": [
    {
     "name": "stdout",
     "output_type": "stream",
     "text": [
      "NAME                                                               READY     STATUS    RESTARTS   AGE\r\n",
      "pod/credit-app-v1-rts-for-madlib-featuresengine-5f797865b7-9d5sq   1/1       Running   0          2m12s\r\n",
      "pod/credit-app-v1-rts-for-madlib-mlmodelflow-5d6c4bc85-qpdch       1/1       Running   0          2m6s\r\n",
      "pod/credit-app-v1-rts-for-madlib-model-66d5866bdb-rvl57            1/1       Running   0          2m18s\r\n",
      "\r\n",
      "NAME                                                  TYPE           CLUSTER-IP     EXTERNAL-IP      PORT(S)                         AGE\r\n",
      "service/credit-app-v1-rts-for-madlib-featuresengine   LoadBalancer   10.36.6.208    35.227.55.124    8086:32525/TCP                  2m11s\r\n",
      "service/credit-app-v1-rts-for-madlib-mlmodelflow      LoadBalancer   10.36.13.118   35.243.129.230   8089:30677/TCP                  2m6s\r\n",
      "service/credit-app-v1-rts-for-madlib-model            LoadBalancer   10.36.10.225   34.73.240.170    8085:30362/TCP,5432:32618/TCP   2m18s\r\n",
      "service/kubernetes                                    ClusterIP      10.36.0.1      <none>           443/TCP                         3h33m\r\n",
      "\r\n",
      "NAME                                                          READY     UP-TO-DATE   AVAILABLE   AGE\r\n",
      "deployment.apps/credit-app-v1-rts-for-madlib-featuresengine   1/1       1            1           2m12s\r\n",
      "deployment.apps/credit-app-v1-rts-for-madlib-mlmodelflow      1/1       1            1           2m6s\r\n",
      "deployment.apps/credit-app-v1-rts-for-madlib-model            1/1       1            1           2m18s\r\n",
      "\r\n",
      "NAME                                                                     DESIRED   CURRENT   READY     AGE\r\n",
      "replicaset.apps/credit-app-v1-rts-for-madlib-featuresengine-5f797865b7   1         1         1         2m12s\r\n",
      "replicaset.apps/credit-app-v1-rts-for-madlib-mlmodelflow-5d6c4bc85       1         1         1         2m6s\r\n",
      "replicaset.apps/credit-app-v1-rts-for-madlib-model-66d5866bdb            1         1         1         2m18s\r\n"
     ]
    }
   ],
   "source": [
    "! kubectl get all"
   ]
  },
  {
   "cell_type": "code",
   "execution_count": 81,
   "metadata": {},
   "outputs": [
    {
     "name": "stdout",
     "output_type": "stream",
     "text": [
      "*   Trying 34.73.240.170...\n",
      "* TCP_NODELAY set\n",
      "* Connected to 34.73.240.170 (34.73.240.170) port 8085 (#0)\n",
      "> GET /actuator/info HTTP/1.1\n",
      "> Host: 34.73.240.170:8085\n",
      "> User-Agent: curl/7.63.0\n",
      "> Accept: */*\n",
      "> Content-Type:application/json\n",
      "> \n",
      "< HTTP/1.1 200 \n",
      "< Content-Type: application/vnd.spring-boot.actuator.v2+json;charset=UTF-8\n",
      "< Transfer-Encoding: chunked\n",
      "< Date: Tue, 01 Oct 2019 04:49:21 GMT\n",
      "< \n",
      "* Connection #0 to host 34.73.240.170 left intact\n",
      "{\"MADlib Model - Name\":\"Credit Approval Random Forest model\",\"Description\":\"Credit Approval Random Forest Classification Example\",\"Model Table(s)\":[\"rf_model\",\"rf_model_group\",\"rf_model_summary\"],\"Actor Table\":\"model_inputs\",\"Results Table\":\"scored_results\",\"Results Query\":\"SELECT estimated_prob_1, estimated_prob_0 FROM credit.scored_results;\"}"
     ]
    }
   ],
   "source": [
    "# Model container\n",
    "! curl -v -H \"Content-Type:application/json\" http://34.73.240.170:8085/actuator/info"
   ]
  },
  {
   "cell_type": "code",
   "execution_count": 82,
   "metadata": {},
   "outputs": [
    {
     "name": "stdout",
     "output_type": "stream",
     "text": [
      "*   Trying 35.227.55.124...\n",
      "* TCP_NODELAY set\n",
      "* Connected to 35.227.55.124 (35.227.55.124) port 8086 (#0)\n",
      "> GET /actuator/info HTTP/1.1\n",
      "> Host: 35.227.55.124:8086\n",
      "> User-Agent: curl/7.63.0\n",
      "> Accept: */*\n",
      "> Content-Type:application/json\n",
      "> \n",
      "< HTTP/1.1 200 \n",
      "< Content-Type: application/vnd.spring-boot.actuator.v2+json;charset=UTF-8\n",
      "< Transfer-Encoding: chunked\n",
      "< Date: Tue, 01 Oct 2019 04:49:30 GMT\n",
      "< \n",
      "* Connection #0 to host 35.227.55.124 left intact\n",
      "{}"
     ]
    }
   ],
   "source": [
    "# feature engine container\n",
    "! curl -v -H \"Content-Type:application/json\" http://35.227.55.124:8086/actuator/info"
   ]
  },
  {
   "cell_type": "code",
   "execution_count": 84,
   "metadata": {},
   "outputs": [
    {
     "name": "stdout",
     "output_type": "stream",
     "text": [
      "*   Trying 35.243.129.230...\n",
      "* TCP_NODELAY set\n",
      "* Connected to 35.243.129.230 (35.243.129.230) port 8089 (#0)\n",
      "> POST /predict HTTP/1.1\n",
      "> Host: 35.243.129.230:8089\n",
      "> User-Agent: curl/7.63.0\n",
      "> Accept: */*\n",
      "> Content-Type:application/json\n",
      "> Content-Length: 159\n",
      "> \n",
      "* upload completely sent off: 159 out of 159 bytes\n",
      "< HTTP/1.1 200 \n",
      "< Content-Type: application/json;charset=UTF-8\n",
      "< Transfer-Encoding: chunked\n",
      "< Date: Tue, 01 Oct 2019 04:50:02 GMT\n",
      "< \n",
      "* Connection #0 to host 35.243.129.230 left intact\n",
      "[{\"estimated_prob_1\":1.0,\"estimated_prob_0\":0.0}]"
     ]
    }
   ],
   "source": [
    "! curl -v -H \"Content-Type:application/json\" http://35.243.129.230:8089/predict -d '{\"a1\":\"a\",\"a2\":58.67,\"a3\":4.46,\"a4\":\"u\",\"a5\":\"g\",\"a6\":\"q\",\"a7\":\"h\",\"a8\":3.04,\"a9\":\"t\",\"a10\":\"t\",\"a11\":6.0,\"a12\":\"f\",\"a13\":\"g\",\"a14\":43.0,\"a15\":560.0,\"a16\":\"+\"}'"
   ]
  },
  {
   "cell_type": "code",
   "execution_count": 85,
   "metadata": {},
   "outputs": [
    {
     "name": "stdout",
     "output_type": "stream",
     "text": [
      "Undeploying Credit Application Model......\n",
      "deployName => credit-app-v1\n",
      "undeploying credit-app-v1-rts-for-madlib-model .........\n",
      "deployment.extensions \"credit-app-v1-rts-for-madlib-model\" deleted\n",
      "service \"credit-app-v1-rts-for-madlib-model\" deleted\n",
      "configmap \"credit-app-v1-rts-for-madlib-model-config\" deleted\n",
      "undeploying credit-app-v1-rts-for-madlib-featuresengine .........\n",
      "deployment.extensions \"credit-app-v1-rts-for-madlib-featuresengine\" deleted\n",
      "service \"credit-app-v1-rts-for-madlib-featuresengine\" deleted\n",
      "configmap \"credit-app-v1-rts-for-madlib-featuresengine-config\" deleted\n",
      "undeploying credit-app-v1-rts-for-madlib-mlmodelflow .........\n",
      "deployment.extensions \"credit-app-v1-rts-for-madlib-mlmodelflow\" deleted\n",
      "service \"credit-app-v1-rts-for-madlib-mlmodelflow\" deleted\n",
      "configmap \"credit-app-v1-rts-for-madlib-mlmodelflow-config\" deleted\n"
     ]
    }
   ],
   "source": [
    "! echo \"Undeploying Credit Application Model......\"\n",
    "! source ~/.bash_profile\n",
    "! rts4madlib --name credit-app-v1 --type flow --target kubernetes --action undeploy"
   ]
  },
  {
   "cell_type": "code",
   "execution_count": 87,
   "metadata": {},
   "outputs": [
    {
     "name": "stdout",
     "output_type": "stream",
     "text": [
      "NAME                                                               READY     STATUS        RESTARTS   AGE\r\n",
      "pod/credit-app-v1-rts-for-madlib-featuresengine-5f797865b7-9d5sq   1/1       Terminating   0          3m19s\r\n",
      "pod/credit-app-v1-rts-for-madlib-model-66d5866bdb-rvl57            1/1       Terminating   0          3m25s\r\n",
      "\r\n",
      "NAME                 TYPE        CLUSTER-IP   EXTERNAL-IP   PORT(S)   AGE\r\n",
      "service/kubernetes   ClusterIP   10.36.0.1    <none>        443/TCP   3h34m\r\n"
     ]
    }
   ],
   "source": [
    "! kubectl get all"
   ]
  }
 ],
 "metadata": {
  "kernelspec": {
   "display_name": "Python 3",
   "language": "python",
   "name": "python3"
  },
  "language_info": {
   "codemirror_mode": {
    "name": "ipython",
    "version": 3
   },
   "file_extension": ".py",
   "mimetype": "text/x-python",
   "name": "python",
   "nbconvert_exporter": "python",
   "pygments_lexer": "ipython3",
   "version": "3.7.1"
  }
 },
 "nbformat": 4,
 "nbformat_minor": 2
}
