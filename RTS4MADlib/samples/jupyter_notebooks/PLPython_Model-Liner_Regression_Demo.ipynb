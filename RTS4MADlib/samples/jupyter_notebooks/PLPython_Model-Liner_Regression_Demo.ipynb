{
 "cells": [
  {
   "cell_type": "markdown",
   "metadata": {},
   "source": [
    "# RTSMADlib  - Plpython Model Demo\n",
    "\n",
    "## Logistic Regression Model Sample and Model deployment\n",
    "\n",
    "In this sample we demonstrate how to build python models in Greenplum database and deploy that model to Kubernetes using RTSMADlib tooling. \n",
    "\n",
    "\n",
    "## Pre-Requisites\n",
    "1. A running instance of Greenplum 6 latest\n",
    "2. Install plcontainer add-on feature. \n",
    "2. A runing insance of kubernetes environment\n",
    "\n",
    "PLContainer feature enable to run non-database native code to run in secured isolated docker VMs in distributed mode. \n",
    "In this demo we use plpython3u (python 3.7.5) version of images. To learn more about pl container please visit https://gpdb.docs.pivotal.io/6-6/analytics/pl_container.html\n",
    "\n",
    "### The notebook perform the below tasks\n",
    "\n",
    "1. Connect to greenplum and setup the session\n",
    "2. Create the schema and create all the tables needed, Load test the data to Greenpulm\n",
    "3. Build and train model using Python in Greenplum database \n",
    "4. Test Batch Score the model .\n",
    "5. Operationalize model with RTSMADlib\n",
    "6. Test Model REST Service\n",
    "7. Undeploy the Model container\n",
    "\n",
    "#### To learn more about ML/AI in Greenplum please visit https://gpdb.docs.pivotal.io/6-6/analytics/overview.html\n",
    "\n",
    "#### If you need to install q quick greenplum environment please visit AWS/GCP/Azure marketplace and provision a single node install."
   ]
  },
  {
   "cell_type": "markdown",
   "metadata": {},
   "source": [
    "### Create SQL Connection to Greenplum"
   ]
  },
  {
   "cell_type": "code",
   "execution_count": null,
   "metadata": {},
   "outputs": [],
   "source": [
    "import psycopg2               # Python-PostgreSQL Database Adapter - https://pypi.python.org/pypi/psycopg2\n",
    "import pandas as pd           # Python Data Analysis Library - https://pandas.pydata.org/\n",
    "import math  \n",
    "import json\n",
    "\n",
    "%load_ext sql\n",
    "\n",
    "# PLEASE MODIFY THE BELOW AS PER YOUR GREENPLUM CLUSTER SETTINGS\n",
    "database_host = 'ec2-54-196-119-66.compute-1.amazonaws.com'\n",
    "database_databasename = 'dev'\n",
    "database_username = 'gpbot'\n",
    "database_password = 'GpRocks@20'\n",
    "database_port = '5432'\n",
    "\n",
    "try:\n",
    "    connString = \"host='{}' dbname='{}' user='{}' password='{}' port={}\".format(database_host,database_databasename,database_username,database_password,database_port)\n",
    "    # print connString\n",
    "    conn = psycopg2.connect(connString)\n",
    "    cur = conn.cursor()\n",
    "    conn.autocommit = True\n",
    "        \n",
    "    connection = 'postgresql://{}:{}@{}:{}/{}'.format(database_username,database_password,database_host,database_port,database_databasename)\n",
    "    %sql $connection\n",
    "\n",
    "    message = \"<span style='color:green'>**Connection successful!**</span>\"\n",
    "    print(message)\n",
    "except Exception as e:\n",
    "    message = \"<span style='color:red'>**ERROR: Unable to connect to the database ({})**</span>\".format(e)\n",
    "    print(message) "
   ]
  },
  {
   "cell_type": "markdown",
   "metadata": {},
   "source": [
    "# Create a model repository schema \n",
    " ### In this step we create schema plpy and create a repository table. This table is used to store models in database so that they can be read and executed. This also support model versioning."
   ]
  },
  {
   "cell_type": "code",
   "execution_count": null,
   "metadata": {},
   "outputs": [],
   "source": [
    "%%sql\n",
    "\n",
    "DROP SCHEMA IF EXISTS pyml cascade;\n",
    "\n",
    "CREATE SCHEMA pyml;\n",
    "\n",
    "-- model repository table used for python models\n",
    "CREATE TABLE pyml.model_repo (\n",
    "\tid serial primary key,\n",
    "\tmodel_name text,\n",
    "\tmodel bytea not null,\n",
    "\tmodel_description text not null,\n",
    "\tmodel_version int not null\n",
    ") ;\n",
    "\n"
   ]
  },
  {
   "cell_type": "markdown",
   "metadata": {},
   "source": [
    "# verify the plpython plcontainer environment"
   ]
  },
  {
   "cell_type": "code",
   "execution_count": null,
   "metadata": {},
   "outputs": [],
   "source": [
    "%%sql\n",
    "\n",
    "\n",
    "create type pyml.pymodule_info as(mod_name text, mod_version text);\n",
    "\n",
    "create or replace function pyml.pymodsversions() returns \n",
    "\tsetof pyml.pymodule_info\n",
    "as\n",
    "$$\n",
    "\t# container: plc_python3_shared\n",
    "\t\"\"\"\n",
    "\t\tThis Function return a list of data science python modules & versions deployed\n",
    "\t\"\"\"\n",
    "\timport sys\n",
    "\timport numpy as np\n",
    "\timport scipy as sc\n",
    "\timport pandas as pd\n",
    "\timport sklearn as sk\n",
    "\tversion_list=[]\n",
    "\tversion_list.append({\"mod_name\" : \"Python\", \"mod_version\" : sys.version_info})\n",
    "\tversion_list.append({\"mod_name\" : \"numpy\", \"mod_version\" : np.__version__})\n",
    "\tversion_list.append({\"mod_name\" : \"scipy\", \"mod_version\" : sc.__version__})\n",
    "\tversion_list.append({\"mod_name\" : \"pandas\", \"mod_version\" : pd.__version__})\n",
    "\tversion_list.append({\"mod_name\" : \"sklearn\", \"mod_version\" : sk.__version__})\n",
    "\treturn version_list\n",
    "$$ language plcontainer\t;\n",
    "\n",
    "\n",
    "select pyml.pymodsversions();"
   ]
  },
  {
   "cell_type": "markdown",
   "metadata": {},
   "source": [
    "# Create  data \n",
    "### In this cell we Create a schema and table for data and  Create views to split daat for train and test."
   ]
  },
  {
   "cell_type": "code",
   "execution_count": null,
   "metadata": {},
   "outputs": [],
   "source": [
    "%%sql\n",
    "\n",
    "drop schema if exists plcpymldemo cascade;\n",
    "\n",
    "create schema plcpymldemo;\n",
    "\n",
    "--create data table\n",
    "create table plcpymldemo.employee_salary(id serial, years_of_experience float, salary float) distributed randomly;\n",
    "\n",
    "insert into plcpymldemo.employee_salary(years_of_experience, salary) \n",
    "values \n",
    "(1.1,\t39343.00),\n",
    "(1.3,\t46205.00),\n",
    "(1.5,\t37731.00),\n",
    "(2.0,\t43525.00),\n",
    "(2.2,\t39891.00),\n",
    "(2.9,\t56642.00),\n",
    "(3.0,\t60150.00),\n",
    "(3.2,\t54445.00),\n",
    "(3.2,\t64445.00),\n",
    "(3.7,\t57189.00),\n",
    "(3.9,\t63218.00),\n",
    "(4.0,\t55794.00),\n",
    "(4.0,\t56957.00),\n",
    "(4.1,\t57081.00),\n",
    "(4.5,\t61111.00),\n",
    "(4.9,\t67938.00),\n",
    "(5.1,\t66029.00),\n",
    "(5.3,\t83088.00),\n",
    "(5.9,\t81363.00),\n",
    "(6.0,\t93940.00),\n",
    "(6.8,\t91738.00),\n",
    "(7.1,\t98273.00),\n",
    "(7.9,\t101302.00),\n",
    "(8.2,\t113812.00),\n",
    "(8.7,\t109431.00),\n",
    "(9.0,\t105582.00),\n",
    "(9.5,\t116969.00),\n",
    "(9.6,\t112635.00),\n",
    "(10.3,\t122391.00),\n",
    "(10.5,\t121872.00);\n",
    "\n",
    "\n",
    "-- create a view to seperate test data with training data.\n",
    "-- we basically use id column to create a score or percentage and then split data 70/30.\n",
    "\n",
    "drop view if exists plcpymldemo.employ_salary_lr;\n",
    "\n",
    "create view plcpymldemo.employee_salary_lr as \n",
    "\tselect * , abs(hashtext(id::text)%100) comp\n",
    "\tfrom plcpymldemo.employee_salary;\n",
    "\n",
    "-- 70% data is for training, this view gives that\n",
    "\n",
    "create view plcpymldemo.employee_salary_lr_training as select * from plcpymldemo.employee_salary_lr where comp <=70;\n",
    "\n",
    "-- 30% data is for testing, this view gives that\n",
    "\n",
    "create view plcpymldemo.employee_salary_lr_test as select * from plcpymldemo.employee_salary_lr where comp >70;\n"
   ]
  },
  {
   "cell_type": "markdown",
   "metadata": {},
   "source": [
    "# create plpython model\n",
    "\n",
    "### we create a plpython3u based function that represent a single variable Linear regression. This function will return a byte array representing the pickled model."
   ]
  },
  {
   "cell_type": "code",
   "execution_count": null,
   "metadata": {},
   "outputs": [],
   "source": [
    "%%sql\n",
    "\n",
    "create or replace function plcpymldemo.employee_salary_LR_model() returns bytea as\n",
    "$$\n",
    "\t# container: plc_python3_shared\n",
    "\t\"\"\"\n",
    "\t Usage: simple linear regression demo\n",
    "\t \"\"\"\n",
    "\timport numpy as np\n",
    "\timport pandas as pd\n",
    "\tfrom pickle import dumps\n",
    "\tfrom sklearn.linear_model import LinearRegression\n",
    "\t''' load training data from view '''\n",
    "\ttableData = plpy.execute('select years_of_experience, salary from plcpymldemo.employee_salary_lr_training')\t\n",
    "\tframe = []\n",
    "\tfor rec in tableData:\n",
    "\t\tframe.append(rec)\n",
    "\tdf = pd.DataFrame(frame)\n",
    "\t''' dependent variable, i.e years_of_experience '''\n",
    "\tx = df.iloc[:, :-1].values\n",
    "\t# independent variable, i.e salary \n",
    "\ty = df.iloc[:, 1].values\n",
    "\t''' fit model '''\n",
    "\tregressor = LinearRegression()\n",
    "\tregressor.fit(x, y)\n",
    "\treturn dumps(regressor)\n",
    "$$ language plcontainer\t;\n"
   ]
  },
  {
   "cell_type": "markdown",
   "metadata": {},
   "source": [
    "# Model Store Function\n",
    "## Here we create function that exuctes model function and stores the model into model repo table. The model function is passed as an arguments to this function."
   ]
  },
  {
   "cell_type": "code",
   "execution_count": null,
   "metadata": {},
   "outputs": [],
   "source": [
    "%%sql\n",
    "\n",
    "create or replace function plcpymldemo.model_store(modelFunction text, modelName text, modelDesc text, modelVersion int) \n",
    "returns void as\n",
    "$$\n",
    "/**\n",
    " * Usage: This function is used to store the ML model in pyml.pyml_model_repo table\n",
    " */\n",
    " DECLARE\n",
    " model bytea;\n",
    "BEGIN\n",
    " execute format ('select %s ()', modelFunction) into model ;\n",
    " insert into pyml.model_repo(model_name, model, model_description, model_version)\n",
    "\tvalues(modelName, model, modelDesc, modelVersion);\n",
    "END\n",
    "$$\n",
    "language plpgsql;\n",
    "\n"
   ]
  },
  {
   "cell_type": "markdown",
   "metadata": {},
   "source": [
    "# Store model\n",
    "### invoke the model_store function to persist model"
   ]
  },
  {
   "cell_type": "code",
   "execution_count": null,
   "metadata": {},
   "outputs": [],
   "source": [
    "%%sql\n",
    "\n",
    "select plcpymldemo.model_store('plcpymldemo.employee_salary_LR_model', 'employee_salary_simple_linear_regression', 'A simple model demo LR', 1)\n",
    "\n"
   ]
  },
  {
   "cell_type": "markdown",
   "metadata": {},
   "source": [
    "# Model driver function\n",
    "### This function is used to execute the model. Here we create a standard framework to help run model in database aswell as in K8. This allows us to deligate the model execution driver to model author so that we can seemlessly shift and load this in to k8. We will see this in action in model deployment cell.\n"
   ]
  },
  {
   "cell_type": "code",
   "execution_count": null,
   "metadata": {},
   "outputs": [],
   "source": [
    "%%sql\n",
    "CREATE OR REPLACE FUNCTION plcpymldemo.employee_salary_lr_model_driver(model_name text,model_version int, input_table text, output_table text) \n",
    "RETURNS void\n",
    "AS $$ \t\n",
    "\t# container: plc_python3_shared\n",
    "\tfrom pickle import loads\n",
    "\timport pandas as pd\n",
    "\timport numpy as np\n",
    "\t\"\"\"\n",
    "\t\tThis function is used to run the model by loading it from repository and runa prediction.\n",
    "\t\tThe input need is the model_name and model_version in the model repo\n",
    "\t\tand the payload table from where the input to model is read. The caller should insert the\n",
    "\t\tpayload in to the table and invoke this function. \n",
    "        Example usage is;\n",
    " \t\tselect plcpymldemo.employee_salary_lr_model_driver('employee_salary_simple_linear_regression', 1, 'plcpymldemo.employee_salary_predict_model_input')\n",
    "\t\"\"\"\n",
    "\t' Read model from table and deserialize .....'\t\n",
    "\tsplan = plpy.prepare(\"SELECT model FROM pyml.model_repo WHERE model_name = $1 and model_version = $2\", ['text', 'integer'])\n",
    "\trv = plpy.execute(splan, [model_name, model_version])\n",
    "\tmodel = loads(rv[0]['model'])\n",
    "\tiqry  = 'insert into ' + output_table + '(years_of_exp, predicted_salary) values($1, $2)'\n",
    "\tiplan = plpy.prepare(iqry, [\"float\", \"float\"]);\n",
    "\t' Read years of experiences from input table .....'\n",
    "\ttableData = plpy.execute('SELECT * FROM %s ;' % (input_table))\n",
    "\tpredictions = []\n",
    "\tfor rec in tableData:\n",
    "\t\tframe = []\n",
    "\t\tframe.append(rec)\n",
    "\t\tdf = pd.DataFrame(frame)\n",
    "\t\tyearsOfExps = df.iloc[:].values\n",
    "\t\t' Run prediction.'\n",
    "\t\tpred = model.predict(yearsOfExps)\n",
    "\t\tplpy.execute(iplan, [yearsOfExps[0][0], pred[0]])\t\n",
    " $$\n",
    "language plcontainer;"
   ]
  },
  {
   "cell_type": "markdown",
   "metadata": {},
   "source": [
    "## Model test tables\n",
    "### Here we create tables need to run model. Basically the model input data table and model output table. "
   ]
  },
  {
   "cell_type": "code",
   "execution_count": null,
   "metadata": {},
   "outputs": [],
   "source": [
    "%%sql\n",
    "\n",
    "--create test payload table\n",
    "create table plcpymldemo.employee_salary_predict_model_input as \n",
    "\tselect  years_of_experience \n",
    "\t\tfrom plcpymldemo.employee_salary_lr_test;\n",
    "--verify model input\n",
    "select * from plcpymldemo.employee_salary_predict_model_input;\n",
    "\n",
    "--create output table\n",
    "create table plcpymldemo.employee_salary_predict_model_output(years_of_exp float, predicted_salary float);\n"
   ]
  },
  {
   "cell_type": "markdown",
   "metadata": {},
   "source": [
    "# Run prediction \n",
    "### Here we run the model model driver function with model input table and output tables created a cell above."
   ]
  },
  {
   "cell_type": "code",
   "execution_count": null,
   "metadata": {},
   "outputs": [],
   "source": [
    "%%sql\n",
    "select plcpymldemo.employee_salary_lr_model_driver('employee_salary_simple_linear_regression', 1, 'plcpymldemo.employee_salary_predict_model_input','plcpymldemo.employee_salary_predict_model_output')\n"
   ]
  },
  {
   "cell_type": "markdown",
   "metadata": {},
   "source": [
    "# verify model run results"
   ]
  },
  {
   "cell_type": "code",
   "execution_count": null,
   "metadata": {},
   "outputs": [],
   "source": [
    "%%sql\n",
    "select * from plcpymldemo.employee_salary_predict_model_output;"
   ]
  },
  {
   "cell_type": "markdown",
   "metadata": {},
   "source": [
    "# RTSMADlib\n",
    "\n",
    "## Operationalize the  model \n",
    "\n",
    "The plpython model from Greenplum is containerized and deployed container management system. In this case we are using local docker environment. The rtsmadlib tool will take care of how to bundle, deploy and serve the model as REST endpoint."
   ]
  },
  {
   "cell_type": "code",
   "execution_count": null,
   "metadata": {},
   "outputs": [],
   "source": [
    "! source ~/.bash_profile\n",
    "! rts4madlib --help"
   ]
  },
  {
   "cell_type": "markdown",
   "metadata": {},
   "source": [
    "# Deployment manifest of Model"
   ]
  },
  {
   "cell_type": "code",
   "execution_count": null,
   "metadata": {},
   "outputs": [],
   "source": [
    "import json\n",
    "\n",
    "pymodel_config = json.dumps({\n",
    " \"plpyrest.pydeps\": \"numpy==1.14.6,scipy==1.4.0,pandas==0.25.3,scikit-learn==0.22\",\n",
    " \"modeldb-datasource.jdbc-url\" : \"jdbc:postgresql://ec2-54-196-119-66.compute-1.amazonaws.com/dev\",\n",
    " \"modeldb-datasource.username\" : \"gpbot\",\n",
    " \"modeldb-datasource.password\" : \"GpRocks@20\",\n",
    " \"plpyrest.modelreposchema\" : \"pyml\",\n",
    " \"plpyrest.modelrepotable\" : \"model_repo\",\n",
    " \"plpyrest.modelname\" : \"employee_salary_simple_linear_regression\",\n",
    " \"plpyrest.modelversion\" : 1,\n",
    " \"plpyrest.modeldescription\" : \"linear regression model with 1 dependent variable demo\",\n",
    " \"plpyrest.payloadtable\" : \"employee_salary_predict_model_input\",\n",
    " \"plpyrest.resultstable\" : \"employee_salary_predict_model_output\",\n",
    " \"plpyrest.modelschema\" : \"plcpymldemo\",\n",
    " \"plpyrest.modeldriverfunction\" : \"employee_salary_lr_model_driver\",\n",
    " \"plpyrest.modelquery\" : \"select plcpymldemo.employee_salary_lr_model_driver('employee_salary_simple_linear_regression', 1, 'plcpymldemo.employee_salary_predict_model_input', 'plcpymldemo.employee_salary_predict_model_output')\"\n",
    "\n",
    "})\n",
    "\n",
    "with open(\"pymodel-config.json\", \"w\") as f:\n",
    "    f.write(pymodel_config)"
   ]
  },
  {
   "cell_type": "markdown",
   "metadata": {},
   "source": [
    "# Deploy model to kubernetes"
   ]
  },
  {
   "cell_type": "code",
   "execution_count": null,
   "metadata": {},
   "outputs": [],
   "source": [
    "! source ~/.bash_profile && rts4madlib --name plpylrmodel --action deploy --type plpy-model --target kubernetes --input pymodel-config.json"
   ]
  },
  {
   "cell_type": "code",
   "execution_count": null,
   "metadata": {},
   "outputs": [],
   "source": [
    "! kubectl get all"
   ]
  },
  {
   "cell_type": "markdown",
   "metadata": {},
   "source": [
    "# Verify pymodel container\n",
    "The log files of deployment should show the service end points container. We use the endpoint to test. The below tests the information end point on the model container."
   ]
  },
  {
   "cell_type": "code",
   "execution_count": null,
   "metadata": {},
   "outputs": [],
   "source": [
    "! curl -v -H \"Content-Type:application/json\" http://192.168.99.100:30123/actuator/info"
   ]
  },
  {
   "cell_type": "markdown",
   "metadata": {},
   "source": [
    "# Test model"
   ]
  },
  {
   "cell_type": "code",
   "execution_count": null,
   "metadata": {},
   "outputs": [],
   "source": [
    "! curl -v -H \"Content-Type:application/json\"  http://192.168.99.100:30123/predict -d '{\"years_of_experience\": 10.0 }'"
   ]
  },
  {
   "cell_type": "markdown",
   "metadata": {},
   "source": [
    "# undeploying model"
   ]
  },
  {
   "cell_type": "code",
   "execution_count": null,
   "metadata": {},
   "outputs": [],
   "source": [
    "! rts4madlib --name plpylrmodel --action undeploy --type plpy-model --target kubernetes"
   ]
  },
  {
   "cell_type": "code",
   "execution_count": null,
   "metadata": {},
   "outputs": [],
   "source": [
    "! kubectl get all"
   ]
  },
  {
   "cell_type": "code",
   "execution_count": null,
   "metadata": {},
   "outputs": [],
   "source": []
  }
 ],
 "metadata": {
  "kernelspec": {
   "display_name": "Python 3",
   "language": "python",
   "name": "python3"
  },
  "language_info": {
   "codemirror_mode": {
    "name": "ipython",
    "version": 3
   },
   "file_extension": ".py",
   "mimetype": "text/x-python",
   "name": "python",
   "nbconvert_exporter": "python",
   "pygments_lexer": "ipython3",
   "version": "3.7.1"
  }
 },
 "nbformat": 4,
 "nbformat_minor": 2
}
