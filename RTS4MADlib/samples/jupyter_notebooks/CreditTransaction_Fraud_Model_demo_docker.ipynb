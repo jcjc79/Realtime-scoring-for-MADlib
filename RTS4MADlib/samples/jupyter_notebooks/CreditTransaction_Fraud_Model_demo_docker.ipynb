{
 "cells": [
  {
   "cell_type": "markdown",
   "metadata": {},
   "source": [
    "# MADlib Flow \n",
    "\n",
    "## Credit & Debit Transaction Fraud Model\n",
    "\n",
    "Use case:\n",
    "Using available credit and debit card transaction data build a classification model to predict whether or not a new transaction is fraudulent.\n",
    "\n",
    "This notebook demonstrate the model development, feature engineering, a look up cache for feature engine, and operationalize the model for batch and low-latency operations.\n",
    "\n",
    "RTSMADlib tool is used to deploy overall workflow. This particular model workflow requires features lookup feature to do the feature engineering. The MADlibFlow will automatically populates the cache elements needed in redis based on the input manifest.\n",
    "\n",
    "### Pre-Requisites\n",
    "    1. A running instance of Greenplum with Apache MADlib. If you do not have a Greenplum you can spin up the sandbox with single node instance in AWS/GCP/Azure marketplace or you can build docker image by following instrunctions in ....\n",
    "    \n",
    "    2. A running instance of Redis. If you do not have redis, you can use docker based image https://hub.docker.com/_/redis/\n",
    "    \n",
    "    3. Python Libraries: pandas, geopy, numpy, enlighten, ipython-sql, psycopg2, psycopg2-binary\n",
    "    4. In tasklet 1; \n",
    "       - Modify database connection parameters\n",
    "       - Modify the root_dir to MADlibFlowClient install folder.\n",
    "    5. Modify MADlibflow model deployment JSON file        \n",
    "         $RTSMADLIB_HOME/samples/credit_transactions/credit_transaction_flow.json\n",
    "         1. Replace {DATABASE_HOST}, {PORT}, {DATABASE}, {USER}, {PASSWORD} with Greenplum connection information.\n",
    "         2. Replace {REDIST_HOST}\n",
    "\n",
    "### The notebook perform the below tasks\n",
    "\n",
    "1. Connect to greenplum and setup the session\n",
    "2. Create the schema and create all the tables needed\n",
    "3. Run the data creator\n",
    "4. Load the data to Greenpulm\n",
    "5. Feature Engineering\n",
    "6. Build and train model\n",
    "7. Test Batch Score the model .\n",
    "8. Operationalize model with MADlibflow\n"
   ]
  },
  {
   "cell_type": "markdown",
   "metadata": {},
   "source": [
    "# Connect to Greenplum"
   ]
  },
  {
   "cell_type": "code",
   "execution_count": null,
   "metadata": {},
   "outputs": [],
   "source": [
    "import psycopg2               # Python-PostgreSQL Database Adapter - https://pypi.python.org/pypi/psycopg2\n",
    "import pandas as pd           # Python Data Analysis Library - https://pandas.pydata.org/\n",
    "import math  \n",
    "import json\n",
    "\n",
    "%load_ext sql\n",
    "\n",
    "# PLEASE MODIFY THE BELOW AS PER YOUR GREENPLUM CLUSTER SETTINGS\n",
    "database_host = '{HOST}'\n",
    "database_databasename = '{DATABASE}'\n",
    "database_username = '{USER}'\n",
    "database_password = '{PASSWORD}'\n",
    "database_port = '{PORT}'\n",
    "\n",
    "\n",
    "# PLEASE MODIFY \"root_dir\" PATH TO YOUR RTS4MADlib INSTALL DIRECTORY\n",
    "root_dir=\"/Users/sridharpaladugu/RTS4MADlib\"\n",
    "data_generator_path=root_dir+\"/samples/CreditCardTransactionGenerator\"\n",
    "transactions_path=data_generator_path+\"/data/\"\n",
    "\n",
    "try:\n",
    "    connString = \"host='{}' dbname='{}' user='{}' password='{}' port={}\".format(database_host,database_databasename,database_username,database_password,database_port)\n",
    "    # print connString\n",
    "    conn = psycopg2.connect(connString)\n",
    "    cur = conn.cursor()\n",
    "    conn.autocommit = True\n",
    "        \n",
    "    connection = 'postgresql://{}:{}@{}:{}/{}'.format(database_username,database_password,database_host,database_port,database_databasename)\n",
    "    %sql $connection\n",
    "\n",
    "    message = \"<span style='color:green'>**Connection successful!**</span>\"\n",
    "    print(message)\n",
    "except Exception as e:\n",
    "    message = \"<span style='color:red'>**ERROR: Unable to connect to the database ({})**</span>\".format(e)\n",
    "    print(message) "
   ]
  },
  {
   "cell_type": "markdown",
   "metadata": {},
   "source": [
    "## Create Schema"
   ]
  },
  {
   "cell_type": "code",
   "execution_count": null,
   "metadata": {},
   "outputs": [],
   "source": [
    "%%sql\n",
    "\n",
    "-- create working schema\n",
    "DROP SCHEMA IF EXISTS credit_trans CASCADE;\n",
    "\n",
    "CREATE SCHEMA credit_trans;\n",
    "\n",
    "DROP TABLE IF EXISTS credit_trans.raw_accounts;\n",
    "\n",
    "CREATE TABLE credit_trans.raw_accounts (\n",
    "    raw_accounts json\n",
    ");\n",
    "\n",
    "DROP TABLE IF EXISTS credit_trans.accounts;\n",
    "\n",
    "CREATE TABLE credit_trans.accounts (\n",
    "    account_number text,\n",
    "    expiration_date text,\n",
    "    cvv text,\n",
    "    card_type text,\n",
    "    account_city text,\n",
    "    account_city_alias text,\n",
    "    account_state text,\n",
    "    account_long float,\n",
    "    account_lat float,\n",
    "    account_transaction_radius integer,\n",
    "    trxn_mean float,\n",
    "    trxn_std float,\n",
    "    account_id integer\n",
    ");\n",
    "\n",
    "DROP TABLE IF EXISTS credit_trans.raw_locations;\n",
    "\n",
    "CREATE TABLE credit_trans.raw_locations (\n",
    "    raw_locations json\n",
    ");\n",
    "\n",
    "DROP TABLE IF EXISTS credit_trans.locations;\n",
    "CREATE TABLE credit_trans.locations (\n",
    "    rlb_location_key text,\n",
    "    merchant_name text,\n",
    "    merchant_trxn_mean float,\n",
    "    merchant_trxn_std float,\n",
    "    merchant_city text,\n",
    "    merchant_state varchar(2),\n",
    "    merchant_long float,\n",
    "    merchant_lat float,\n",
    "    merchant_city_alias text,\n",
    "    transaction_id integer,\n",
    "    location_id integer\n",
    ");\n",
    "\n",
    "DROP TABLE IF EXISTS credit_trans.raw_transactions;\n",
    "\n",
    "CREATE TABLE credit_trans.raw_transactions (\n",
    "    account_id integer,\n",
    "    account_lat double precision,\n",
    "    account_long double precision,\n",
    "    account_number text,\n",
    "    card_type text,\n",
    "    fraud_flag boolean,\n",
    "    location_id integer,\n",
    "    merchant_city text,\n",
    "    merchant_city_alias text,\n",
    "    merchant_lat double precision,\n",
    "    merchant_long double precision,\n",
    "    merchant_name text,\n",
    "    merchant_state text,\n",
    "    posting_date text,\n",
    "    rlb_location_key text,\n",
    "    transaction_amount double precision,\n",
    "    transaction_date text,\n",
    "    transaction_id integer\n",
    ");\n"
   ]
  },
  {
   "cell_type": "markdown",
   "metadata": {},
   "source": [
    "# Generate Test data. \n",
    "This generates some credidit transactions to develop model. The job defeault generates 100000 transactions, but if we want to generate more transactions please modify the parameter \"transactionNumber: 100000\" in  the file $RTSMADLIB_HOME/samples/CreditCardTransactionGenerator/myConfigs.xml"
   ]
  },
  {
   "cell_type": "code",
   "execution_count": null,
   "metadata": {},
   "outputs": [],
   "source": [
    "! cd $RTSMADLIB_HOME/samples/CreditCardTransactionGenerator; python Generator.py"
   ]
  },
  {
   "cell_type": "markdown",
   "metadata": {},
   "source": [
    "# Load data from files"
   ]
  },
  {
   "cell_type": "code",
   "execution_count": null,
   "metadata": {},
   "outputs": [],
   "source": [
    "import psycopg2\n",
    "import os\n",
    "\n",
    "cur = conn.cursor()\n",
    "\n",
    "with open(data_generator_path+\"/accounts.json\", 'r') as accountsFile:\n",
    "#   accountsFile.readline()  # Skip the header row.\n",
    "  cur.copy_from(accountsFile, 'credit_trans.raw_accounts')\n",
    "  conn.commit()\n",
    "\n",
    "with open(data_generator_path+\"/locations.json\", 'r') as locationsFile:\n",
    "#   locationsFile.readline()  # Skip the header row.\n",
    "  cur.copy_from(locationsFile, 'credit_trans.raw_locations')\n",
    "  conn.commit()\n",
    "\n",
    "datafiles = os.listdir(transactions_path)\n",
    "for datafile in datafiles:\n",
    "    print (datafile)\n",
    "    if datafile.startswith(\"transactions_\"):\n",
    "        print (\"loading file\" + datafile +\"............\")\n",
    "        with open(transactions_path+datafile, 'r') as f:\n",
    "            f.readline()  # Skip the header row.\n",
    "            cur.copy_from(f, 'credit_trans.raw_transactions', sep=',')\n",
    "            conn.commit()\n"
   ]
  },
  {
   "cell_type": "markdown",
   "metadata": {},
   "source": [
    "# ELT"
   ]
  },
  {
   "cell_type": "code",
   "execution_count": null,
   "metadata": {},
   "outputs": [],
   "source": [
    "%%sql\n",
    "\n",
    "INSERT INTO credit_trans.accounts (\n",
    "    SELECT raw_accounts->>'account_number' AS account_number\n",
    "          ,raw_accounts->>'expiration_date' AS expiration_date\n",
    "          ,raw_accounts->>'cvv' AS cvv\n",
    "          ,raw_accounts->>'card_type' AS card_type\n",
    "          ,raw_accounts->>'city' AS account_city\n",
    "          ,raw_accounts->>'city_alias' AS account_city_alias\n",
    "          ,(raw_accounts->>'state')::varchar(2) AS account_state \n",
    "          ,(raw_accounts->>'long')::float AS account_long\n",
    "          ,(raw_accounts->>'lat')::float AS account_lat\n",
    "          ,(raw_accounts->>'transaction_radius')::integer AS account_transaction_radius\n",
    "          ,(raw_accounts->>'trxn_mean')::float AS trxn_mean\n",
    "          ,(raw_accounts->>'trxn_std')::float AS trxn_std\n",
    "          ,(raw_accounts->>'account_id')::integer AS account_id\n",
    "    FROM (\n",
    "        SELECT json_array_elements(raw_accounts)AS raw_accounts\n",
    "        FROM credit_trans.raw_accounts\n",
    "    ) foo\n",
    ");\n",
    "SELECT count(*) FROM credit_trans.accounts;\n",
    "\n",
    "INSERT INTO credit_trans.locations (\n",
    "    SELECT raw_locations->>'rlb_location_key' AS rlb_location_key\n",
    "          ,raw_locations->>'merchant_name' AS merchant_name\n",
    "          ,(raw_locations->>'merchant_trxn_mean')::float AS merchant_trxn_mean\n",
    "          ,(raw_locations->>'merchant_trxn_std')::float AS merchant_trxn_std\n",
    "          ,raw_locations->>'merchant_city' AS merchant_city\n",
    "          ,(raw_locations->>'merchant_state')::varchar(2) AS merchant_state\n",
    "          ,(raw_locations->>'merchant_long')::float AS merchant_long \n",
    "          ,(raw_locations->>'merchant_lat')::float AS merchant_lat\n",
    "          ,raw_locations->>'merchant_city_alias' AS merchant_city_alias\n",
    "          ,(raw_locations->>'transaction_id')::integer AS transaction_id\n",
    "          ,(raw_locations->>'location_id')::integer AS location_id\n",
    "    FROM (\n",
    "        SELECT json_array_elements(raw_locations) AS raw_locations\n",
    "        FROM credit_trans.raw_locations\n",
    "    ) foo\n",
    ");\n",
    "\n",
    "SELECT count(*) FROM credit_trans.locations;\n",
    "\n",
    "DROP TABLE IF EXISTS credit_trans.transactions;\n",
    "\n",
    "CREATE TABLE credit_trans.transactions AS\n",
    "SELECT \n",
    "    account_id,\n",
    "    account_number,\n",
    "    card_type,\n",
    "    fraud_flag,\n",
    "    location_id,\n",
    "    merchant_city,\n",
    "    merchant_city_alias,\n",
    "    merchant_lat,\n",
    "    merchant_long,\n",
    "    merchant_name,\n",
    "    merchant_state,\n",
    "    to_timestamp(posting_date::float) AT TIME ZONE 'EST' AS posting_date,\n",
    "    rlb_location_key,\n",
    "    CASE WHEN transaction_amount < 0 THEN 0 ELSE transaction_amount END AS transaction_amount,\n",
    "    to_timestamp(transaction_date::float) AT TIME ZONE 'EST' AS transaction_date,\n",
    "    transaction_id\n",
    "FROM credit_trans.raw_transactions\n",
    "DISTRIBUTED RANDOMLY;\n",
    "\n",
    "select count(*) from credit_trans.transactions\n"
   ]
  },
  {
   "cell_type": "markdown",
   "metadata": {},
   "source": [
    "# Data Audit\n",
    "\n",
    "## Summary Statistics\n",
    "\n",
    "https://madlib.apache.org/docs/latest/group__grp__summary.html"
   ]
  },
  {
   "cell_type": "code",
   "execution_count": null,
   "metadata": {},
   "outputs": [],
   "source": [
    "%%sql\n",
    "\n",
    "--drop existing table & run madlib summary stats function\n",
    "\n",
    "DROP TABLE IF EXISTS credit_trans.transactions_summary;\n",
    "SELECT madlib.summary('credit_trans.transactions','credit_trans.transactions_summary');\n",
    "\n",
    "-- grab results from gpdb\n",
    "SELECT * FROM credit_trans.transactions_summary;\n",
    "\n",
    "--drop existing table & run madlib summary stats function\n",
    "DROP TABLE IF EXISTS credit_trans.locations_summary;\n",
    "SELECT madlib.summary('credit_trans.locations','credit_trans.locations_summary');\n",
    "\n",
    "-- grab results from gpdb\n",
    "SELECT * FROM credit_trans.locations_summary;\n",
    "\n",
    "-- create join table for exploration\n",
    "DROP TABLE IF EXISTS credit_trans.transactions_accounts;\n",
    "CREATE TABLE credit_trans.transactions_accounts AS\n",
    "SELECT t.*\n",
    "      ,a.account_city\n",
    "      ,a.account_city_alias \n",
    "      ,a.account_state \n",
    "      ,a.account_long\n",
    "      ,a.account_lat\n",
    "      ,a.account_transaction_radius\n",
    "FROM credit_trans.transactions AS t\n",
    "JOIN credit_trans.accounts AS a\n",
    "USING (account_id);\n"
   ]
  },
  {
   "cell_type": "markdown",
   "metadata": {},
   "source": [
    "# Data Exploration\n",
    "\n",
    "### Create Joined Table For Exploration"
   ]
  },
  {
   "cell_type": "code",
   "execution_count": null,
   "metadata": {},
   "outputs": [],
   "source": [
    "%%sql\n",
    "\n",
    "DROP TABLE IF EXISTS credit_trans.transactions_accounts;\n",
    "CREATE TABLE credit_trans.transactions_accounts AS\n",
    "SELECT t.*\n",
    "      ,a.account_city\n",
    "      ,a.account_city_alias \n",
    "      ,a.account_state \n",
    "      ,a.account_long\n",
    "      ,a.account_lat\n",
    "      ,a.account_transaction_radius\n",
    "FROM credit_trans.transactions AS t\n",
    "JOIN credit_trans.accounts AS a\n",
    "USING (account_id);\n"
   ]
  },
  {
   "cell_type": "markdown",
   "metadata": {},
   "source": [
    "# Feature Engineering"
   ]
  },
  {
   "cell_type": "code",
   "execution_count": null,
   "metadata": {},
   "outputs": [],
   "source": [
    "%%sql\n",
    "\n",
    "-- transaction features\n",
    "\n",
    "DROP TABLE IF EXISTS credit_trans.transactions_features;\n",
    "CREATE TABLE credit_trans.transactions_features AS\n",
    "SELECT transaction_id\n",
    "      ,transaction_amount\n",
    "      ,account_id\n",
    "      ,location_id\n",
    "      ,fraud_flag\n",
    "FROM credit_trans.transactions\n",
    "WHERE transaction_date > now() - interval '30 days';\n",
    "\n",
    "-- merchant features\n",
    "\n",
    "DROP TABLE IF EXISTS credit_trans.merchant_features;\n",
    "CREATE TABLE credit_trans.merchant_features AS\n",
    "SELECT l.merchant_name\n",
    "      ,t.*\n",
    "FROM credit_trans.locations AS l\n",
    "JOIN (\n",
    "  SELECT location_id\n",
    "        ,merchant_state\n",
    "        ,count(CASE WHEN fraud_flag = True THEN 1 ELSE null END) AS m_fraud_cases\n",
    "        ,min(extract('hour' from transaction_date)) AS m_min_hour\n",
    "        ,max(extract('hour' from transaction_date)) AS m_max_hour\n",
    "        ,avg(transaction_amount) AS m_avg_transaction_amount\n",
    "        ,min(transaction_amount) AS m_min_transaction_amount\n",
    "        ,max(transaction_amount) AS m_max_transaction_amount\n",
    "        ,stddev(transaction_amount) AS m_stddev_transaction_amount\n",
    "        ,count(*) AS m_number_transactions\n",
    "        ,count(distinct account_id) AS m_unique_accounts\n",
    "        ,coalesce(count(CASE WHEN card_type = 'Discover' THEN 1 ELSE null END) / (count(*))::float,0) AS m_prop_discover_transactions\n",
    "        ,coalesce(count(CASE WHEN card_type = 'Amex' THEN 1 ELSE null END) / (count(*))::float,0) AS m_prop_amex_transactions\n",
    "        ,coalesce(count(CASE WHEN card_type = 'Diners' THEN 1 ELSE null END) / (count(*))::float,0) AS m_prop_diners_transactions\n",
    "        ,coalesce(count(CASE WHEN card_type = 'MasterCard' THEN 1 ELSE null END) / (count(*))::float,0) AS m_prop_mastercard_transactions\n",
    "        ,coalesce(count(CASE WHEN card_type = 'Visa' THEN 1 ELSE null END) / (count(*))::float,0) AS m_prop_visa_transactions\n",
    "  FROM credit_trans.transactions\n",
    "  WHERE transaction_date > now() - interval '30 days'\n",
    "  GROUP BY 1, 2\n",
    ") AS t\n",
    "USING (location_id);\n",
    "\n",
    "-- Account features\n",
    "\n",
    "DROP TABLE IF EXISTS credit_trans.account_features;\n",
    "CREATE TABLE credit_trans.account_features AS\n",
    "SELECT a.account_state\n",
    "      ,a.card_type\n",
    "      ,t.*\n",
    "FROM credit_trans.accounts AS a\n",
    "JOIN (\n",
    "  SELECT account_id\n",
    "        ,min(extract('hour' from transaction_date)) AS a_min_hour\n",
    "        ,max(extract('hour' from transaction_date)) AS a_max_hour\n",
    "        ,avg(transaction_amount) AS a_avg_transaction_amount\n",
    "        ,min(transaction_amount) AS a_min_transaction_amount\n",
    "        ,max(transaction_amount) AS a_max_transaction_amount\n",
    "        ,stddev(transaction_amount) AS a_stddev_transaction_amount\n",
    "        ,count(*) AS a_number_transactions\n",
    "  FROM credit_trans.transactions\n",
    "  WHERE transaction_date > now() - interval '30 days'\n",
    "  GROUP BY 1\n",
    ") AS t\n",
    "USING (account_id);\n",
    "\n",
    "\n",
    "-- combined features\n",
    "\n",
    "DROP TABLE IF EXISTS credit_trans.all_features;\n",
    "CREATE TABLE credit_trans.all_features AS\n",
    "SELECT *\n",
    "      ,abs(t.transaction_amount - m.m_avg_transaction_amount) AS m_transaction_delta\n",
    "      ,abs(t.transaction_amount - a.a_avg_transaction_amount) AS a_transaction_delta\n",
    "FROM credit_trans.transactions_features AS t\n",
    "JOIN credit_trans.merchant_features AS m\n",
    "USING (location_id)\n",
    "JOIN credit_trans.account_features AS a\n",
    "USING (account_id);\n"
   ]
  },
  {
   "cell_type": "markdown",
   "metadata": {},
   "source": [
    "## One Hot Encode Transaction Features\n",
    "\n",
    "    https://madlib.apache.org/docs/latest/group__grp__encode__categorical.html"
   ]
  },
  {
   "cell_type": "code",
   "execution_count": null,
   "metadata": {},
   "outputs": [],
   "source": [
    "categoricalFeatures = ['merchant_name','merchant_state','m_min_hour','m_max_hour','account_state','card_type','a_min_hour','a_max_hour']\n",
    "continuosFeatues = ['transaction_amount','m_fraud_cases','m_avg_transaction_amount','m_min_transaction_amount','m_max_transaction_amount','m_stddev_transaction_amount','m_number_transactions','m_unique_accounts','m_prop_discover_transactions','m_prop_amex_transactions','m_prop_diners_transactions','m_prop_mastercard_transactions','m_prop_visa_transactions','a_avg_transaction_amount','a_min_transaction_amount','a_max_transaction_amount','a_stddev_transaction_amount','a_number_transactions','m_transaction_delta','a_transaction_delta']\n",
    "idColumns = ['account_id', 'location_id', 'transaction_id', 'fraud_flag']\n",
    "\n",
    "\n",
    "# encode categorical features\n",
    "query = \"\"\"\n",
    "    DROP TABLE IF EXISTS credit_trans.all_features_onehot, credit_trans.all_features_onehot_dictionary;\n",
    "    SELECT madlib.encode_categorical_variables (\n",
    "        'credit_trans.all_features',\n",
    "        'credit_trans.all_features_onehot',\n",
    "        '{}',\n",
    "        NULL,\n",
    "        '{}',\n",
    "        NULL,\n",
    "        'merchant_name=TravelCenters Of America, card_type=Diners',\n",
    "        NULL,\n",
    "        NULL,\n",
    "        TRUE\n",
    "    );\n",
    "\"\"\".format(','.join(categoricalFeatures),','.join(continuosFeatues + idColumns))\n",
    "cur.execute(query)\n",
    "\n",
    "query = \"\"\"\n",
    "    SELECT *\n",
    "    FROM credit_trans.all_features_onehot\n",
    "    LIMIT 5\n",
    "\"\"\"\n",
    "cur.execute(query)\n",
    "\n",
    "colnames = [desc[0] for desc in cur.description]\n",
    "\n",
    "pivotFeatures = [c for c in colnames if c not in categoricalFeatures + continuosFeatues + idColumns] \n",
    "\n",
    "print(pivotFeatures)\n",
    "\n",
    "pd.DataFrame(cur.fetchall(), columns=colnames)\n"
   ]
  },
  {
   "cell_type": "markdown",
   "metadata": {},
   "source": [
    "# Model Training\n",
    "\n",
    "    ## Training & Validation Sample Split\n",
    "       \n",
    "       https://madlib.apache.org/docs/latest/group__grp__train__test__split.html"
   ]
  },
  {
   "cell_type": "code",
   "execution_count": null,
   "metadata": {},
   "outputs": [],
   "source": [
    "%%sql\n",
    "-- split training and validation set\n",
    "-- we are careful not to include the same customer in both sets\n",
    "\n",
    "DROP TABLE IF EXISTS credit_trans.model\n",
    "                    ,credit_trans.model_train\n",
    "                    ,credit_trans.model_test;                        \n",
    "SELECT madlib.train_test_split(\n",
    "    'credit_trans.all_features_onehot',\n",
    "    'credit_trans.model',\n",
    "    0.3,\n",
    "    NULL,\n",
    "    NULL,\n",
    "    '*',\n",
    "    FALSE,\n",
    "    TRUE\n",
    ");\n",
    "\n",
    "SELECT fraud_flag\n",
    "      ,count(*)\n",
    "FROM credit_trans.model_train\n",
    "GROUP BY 1\n",
    "ORDER BY 1;"
   ]
  },
  {
   "cell_type": "markdown",
   "metadata": {},
   "source": [
    "# Random Forest (MADlib)\n",
    "\n",
    "    ## Train model\n",
    "    \n",
    "    https://madlib.apache.org/docs/latest/group__grp__random__forest.html"
   ]
  },
  {
   "cell_type": "code",
   "execution_count": null,
   "metadata": {},
   "outputs": [],
   "source": [
    "%%sql\n",
    "\n",
    "-- train random forest model\n",
    "DROP TABLE IF EXISTS credit_trans.rf_model, credit_trans.rf_model_summary, credit_trans.rf_model_group;\n",
    "SELECT madlib.forest_train(\n",
    "            'credit_trans.model_train',\n",
    "            'credit_trans.rf_model',\n",
    "            'transaction_id',\n",
    "            'fraud_flag',\n",
    "            'transaction_amount, m_fraud_cases, m_transaction_delta, a_transaction_delta, merchant_state_2',\n",
    "            null,\n",
    "            null,\n",
    "            10::integer,\n",
    "            4::integer,\n",
    "            true::boolean,\n",
    "            5::integer,\n",
    "            10::integer,\n",
    "            3::integer,\n",
    "            1::integer,\n",
    "            10::integer\n",
    "        );\n"
   ]
  },
  {
   "cell_type": "markdown",
   "metadata": {},
   "source": [
    "\n",
    "## Score Validation Data\n",
    "\n",
    "https://madlib.apache.org/docs/latest/group__grp__random__forest.html"
   ]
  },
  {
   "cell_type": "code",
   "execution_count": null,
   "metadata": {},
   "outputs": [],
   "source": [
    "%%sql\n",
    "\n",
    "-- Create merchants table for caching\n",
    "DROP FUNCTION IF EXISTS credit_trans.mf_merchants();\n",
    "CREATE OR REPLACE FUNCTION credit_trans.mf_merchants()\n",
    "RETURNS Integer AS\n",
    "$BODY$\n",
    "\n",
    "DECLARE\n",
    "    query TEXT;\n",
    "BEGIN\n",
    "    query := $$\n",
    "                DROP TABLE IF EXISTS credit_trans.mf_merchants;\n",
    "                CREATE TABLE credit_trans.mf_merchants AS\n",
    "                SELECT location_id\n",
    "                      ,count(CASE WHEN fraud_flag = true THEN 1 ELSE null END) AS m_fraud_cases\n",
    "                      ,avg(transaction_amount) AS m_avg_transaction_amount\n",
    "                FROM credit_trans.locations\n",
    "                LEFT JOIN credit_trans.transactions\n",
    "                USING (location_id)\n",
    "                WHERE transaction_date > now() - interval '30 days'\n",
    "                GROUP BY location_id;\n",
    "            $$;\n",
    "\n",
    "    EXECUTE query;\n",
    "    RETURN 1;\n",
    "      \n",
    "    EXCEPTION\n",
    "      \tWHEN OTHERS THEN\n",
    "      \t\tRETURN -1;\n",
    "  END;    \t\t\n",
    "  $BODY$\n",
    "  LANGUAGE plpgsql VOLATILE;\n",
    "\n",
    "-- test function\n",
    "SELECT credit_trans.mf_merchants();\n"
   ]
  },
  {
   "cell_type": "code",
   "execution_count": null,
   "metadata": {},
   "outputs": [],
   "source": [
    "%%sql\n",
    "\n",
    "-- Create accounts table for caching\n",
    "DROP FUNCTION IF EXISTS credit_trans.mf_accounts();\n",
    "CREATE OR REPLACE FUNCTION credit_trans.mf_accounts()\n",
    "RETURNS Integer AS\n",
    "$BODY$\n",
    "DECLARE\n",
    "    query TEXT;\n",
    "BEGIN\n",
    "    query := $$\n",
    "                DROP TABLE IF EXISTS credit_trans.mf_accounts;\n",
    "                CREATE TABLE credit_trans.mf_accounts AS\n",
    "                SELECT account_id\n",
    "                      ,avg(transaction_amount) AS a_avg_transaction_amount\n",
    "                FROM credit_trans.accounts\n",
    "                LEFT JOIN credit_trans.transactions\n",
    "                USING (account_id)\n",
    "                WHERE transaction_date > now() - interval '30 days'\n",
    "                GROUP BY account_id;\n",
    "            $$;\n",
    "\n",
    "    EXECUTE query;\n",
    "    RETURN 1;\n",
    "      \n",
    "    EXCEPTION\n",
    "      \tWHEN OTHERS THEN\n",
    "      \t\tRETURN -1;\n",
    "  END;    \t\t\n",
    "  $BODY$\n",
    "  LANGUAGE plpgsql VOLATILE;\n",
    "\n",
    "-- test function\n",
    "SELECT credit_trans.mf_accounts();\n"
   ]
  },
  {
   "cell_type": "code",
   "execution_count": null,
   "metadata": {},
   "outputs": [],
   "source": [
    "%%sql\n",
    "DROP TABLE IF EXISTS credit_trans.feature_engine_test;\n",
    "CREATE TABLE credit_trans.feature_engine_test AS\n",
    "\n",
    "SELECT t.*\n",
    "      ,m.m_fraud_cases\n",
    "      ,abs(t.transaction_amount - m.m_avg_transaction_amount) AS m_transaction_delta\n",
    "      ,abs(t.transaction_amount - a.a_avg_transaction_amount) AS a_transaction_delta\n",
    "      ,CASE WHEN t.merchant_state = 'RS' THEN 1 ELSE 0 END AS merchant_state_2\n",
    "FROM credit_trans.transactions AS t\n",
    "JOIN credit_trans.mf_merchants AS m USING (location_id)\n",
    "JOIN credit_trans.mf_accounts AS a USING (account_id);"
   ]
  },
  {
   "cell_type": "code",
   "execution_count": null,
   "metadata": {},
   "outputs": [],
   "source": [
    "%%sql\n",
    "\n",
    "-- Score out-of-sample\n",
    "DROP TABLE IF EXISTS credit_trans.model_test_scored;\n",
    "SELECT madlib.forest_predict('credit_trans.rf_model',\n",
    "                             'credit_trans.feature_engine_test',\n",
    "                             'credit_trans.model_test_scored',\n",
    "                             'prob');\n",
    "                \n",
    "DROP TABLE IF EXISTS credit_trans.model_test_scored_tmp;\n",
    "\n",
    "CREATE TABLE credit_trans.model_test_scored_tmp AS\n",
    "SELECT *\n",
    "FROM credit_trans.model_test_scored\n",
    "JOIN credit_trans.model_test\n",
    "USING (transaction_id);\n",
    "DROP TABLE credit_trans.model_test_scored;\n",
    "ALTER TABLE credit_trans.model_test_scored_tmp RENAME TO model_test_scored;\n"
   ]
  },
  {
   "cell_type": "markdown",
   "metadata": {},
   "source": [
    "# MADlibFlow\n",
    "\n",
    "## Operationalize the Credit Fraud model \n",
    "\n",
    "The required input files for model, feature, feature cache are in the $MADLIBFLOW_CLIENT/samples/credit_transactions folder.\n",
    "The file \"credit_transaction_flow.json\" defines the deployment workflow."
   ]
  },
  {
   "cell_type": "code",
   "execution_count": null,
   "metadata": {},
   "outputs": [],
   "source": [
    "! rts4madlib --help"
   ]
  },
  {
   "cell_type": "code",
   "execution_count": null,
   "metadata": {},
   "outputs": [],
   "source": [
    "#  deployment specification for madlib model\n",
    "model=  {\n",
    "\t\t\"modeldb-datasource.jdbc-url\": \"jdbc:postgresql://{HOST}:{PORT}/{DATABASE}\",\n",
    "\t\t\"modeldb-datasource.userName\": \"{USER}\",\n",
    "\t\t\"modeldb-datasource.password\": \"{PASSWORD}\",\n",
    "\t\t\"madlibrest.modelname\": \"Credit_fraud_randomforest_model\",\n",
    "\t\t\"madlibrest.modeldescription\": \"Random Forest Classification Example credit transactions\",\n",
    "\t\t\"madlibrest.modelschema\": \"credit_trans\",\n",
    "\t\t\"madlibrest.modeltables\": [\n",
    "\t\t\t\"rf_model\",\n",
    "\t\t\t\"rf_model_group\",\n",
    "\t\t\t\"rf_model_summary\"\n",
    "\t\t],\n",
    "\t\t\"madlibrest.modelinputtable\": \"feature_engine_test\",\n",
    "\t\t\"madlibrest.modelquery\": \"SELECT madlib.forest_predict('credit_trans.rf_model', 'credit_trans.feature_engine_test', 'credit_trans.model_test_scored', 'prob')\",\n",
    "\t\t\"madlibrest.resultstable\": \"model_test_scored\",\n",
    "\t\t\"madlibrest.resultsquery\": \"SELECT * from  credit_trans.model_test_scored, credit_trans.feature_engine_test\"\n",
    "\t}"
   ]
  },
  {
   "cell_type": "code",
   "execution_count": null,
   "metadata": {},
   "outputs": [],
   "source": [
    "#  deployment specification for madlib feature engine\n",
    "\n",
    "featuresengine =  {\n",
    "\t\t\"spring.profiles.active\": \"redis\",\n",
    "        \"modeldb-datasource.jdbc-url\": \"jdbc:postgresql://{HOST}:{PORT}/{DATABASE}\",\n",
    "\t\t\"modeldb-datasource.userName\": \"{USER}\",\n",
    "\t\t\"modeldb-datasource.password\": \"{PASSWORD}\",\n",
    "\t\t\"redis\": {\n",
    "\t\t\t\"clustertype\": \"standlone\",\n",
    "\t\t\t\"hostname\": \"{REDIS__HOST}\"\n",
    "\t\t\t\"port\": 6379\n",
    "\t\t},\n",
    "\t\t\"feature-engine\":{\n",
    "            \"featurename\": \"CreditTransactionFeatures\",\n",
    "            \"featuredescription\": \"Credit Transaction Features\",\n",
    "            \"featuresschema\": \"credit_trans\",\n",
    "            \"payloadtable\": \"message\",\n",
    "            \"featurequery\": \"SELECT t.* ,m.m_fraud_cases ,abs(t.transaction_amount - m.m_avg_transaction_amount) AS m_transaction_delta,abs(t.transaction_amount - a.a_avg_transaction_amount) AS a_transaction_delta, CASE WHEN t.merchant_state = 'RS' THEN 1 ELSE 0 END AS merchant_state_2 FROM credit_trans.message AS t JOIN credit_trans.mf_merchants AS m USING (location_id) JOIN credit_trans.mf_accounts AS a USING (account_id)\",\n",
    "            \"cacheenabled\": \"true\",\n",
    "            \"cacheentities\": {\n",
    "                \"mf_accounts\": \"account_id\",\n",
    "                \"mf_merchants\": \"location_id\"\n",
    "            }\n",
    "        }\n",
    "\t}\n"
   ]
  },
  {
   "cell_type": "code",
   "execution_count": null,
   "metadata": {},
   "outputs": [],
   "source": [
    "#  deployment specification for madlib feature cache \n",
    "\n",
    "featurecache =  {\n",
    "\t\t\"spring.profiles.active\": \"redis\",\n",
    "\t\t\"redis\": {\n",
    "\t\t\t\"clustertype\": \"standlone\",\n",
    "\t\t\t\"hostname\": \"{REDIS__HOST}\",\n",
    "\t\t\t\"port\": 6379\n",
    "\t\t},\n",
    "\t\t\"modeldb-datasource\": {\n",
    "\t\t\t\"jdbc-url\": \"jdbc:postgresql://{HOST}:{PORT}/{DATABASE}\",\n",
    "\t\t\t\"username\": \"{USER}\",\n",
    "\t\t\t\"password\": \"{PASSWORD}\"\n",
    "\t\t},\n",
    "\t\t\"feature-cache\": {\n",
    "\t\t\t\"featurename\": \"CreditTransactionFeaturesCache\",\n",
    "\t\t\t\"featuresourceschema\": \"credit_trans\",\n",
    "            \"featurefunctions\": [\n",
    "                \"mf_accounts\",\n",
    "                \"mf_merchants\"\n",
    "            ],\n",
    "\t\t\t\"featuresourcetables\": {\n",
    "\t\t\t\t\"mf_accounts\": \"account_id\",\n",
    "\t\t\t\t\"mf_merchants\": \"location_id\"\n",
    "\t\t\t}\n",
    "\t\t}\n",
    "\t}\n"
   ]
  },
  {
   "cell_type": "code",
   "execution_count": null,
   "metadata": {},
   "outputs": [],
   "source": [
    "myconfig=json.dumps ({\n",
    "\t\"deploy-packages\": [\n",
    "\t\t\"model\",\n",
    "\t\t\"feature-engine\",\n",
    "\t\t\"featurecache\"\n",
    "\t],\n",
    "\t\"model\": model,\n",
    "\t\"feature-engine\": featuresengine,\n",
    "\t\"featurecache\": featurecache\n",
    "}\n",
    ")\n",
    "\n",
    "\n",
    "with open(\"config.json\", \"w\") as f:\n",
    "    f.write(myconfig)\n",
    "    "
   ]
  },
  {
   "cell_type": "code",
   "execution_count": null,
   "metadata": {},
   "outputs": [],
   "source": [
    "! echo \"Deploying Credit Model to Docker......\"\n",
    "! source ~/.bash_profile\n",
    "! rts4madlib --name credit_fraud --type flow --action deploy --target docker --inputJson config.json"
   ]
  },
  {
   "cell_type": "markdown",
   "metadata": {},
   "source": [
    "## Testing - Madlibflow containers\n",
    "\n",
    "The log files of deployment should show the service end points for each container. We use the endpoint to test. \n",
    "The below tests the information end point on the model container."
   ]
  },
  {
   "cell_type": "markdown",
   "metadata": {},
   "source": [
    "## Inspect model container\n",
    "Please use the port from the above docker output"
   ]
  },
  {
   "cell_type": "code",
   "execution_count": null,
   "metadata": {
    "scrolled": false
   },
   "outputs": [],
   "source": [
    "! curl -v -H \"Content-Type:application/json\" -X GET http://127.0.0.1:8085/actuator/info"
   ]
  },
  {
   "cell_type": "markdown",
   "metadata": {},
   "source": [
    "## Inspect feature_engine container\n",
    "Please use the port from the above docker output"
   ]
  },
  {
   "cell_type": "code",
   "execution_count": null,
   "metadata": {},
   "outputs": [],
   "source": [
    "! curl -v -H \"Content-Type:application/json\" -X GET http://127.0.0.1:8185/actuator/info"
   ]
  },
  {
   "cell_type": "markdown",
   "metadata": {},
   "source": [
    "## Inspect feature_cache container\n",
    "Please use the port from the above docker output"
   ]
  },
  {
   "cell_type": "code",
   "execution_count": null,
   "metadata": {},
   "outputs": [],
   "source": [
    "! curl -v -H \"Content-Type:application/json\" -X GET http://127.0.0.1:8285/actuator/info"
   ]
  },
  {
   "cell_type": "markdown",
   "metadata": {},
   "source": [
    "##### Create a test payload to test the prediction"
   ]
  },
  {
   "cell_type": "code",
   "execution_count": null,
   "metadata": {},
   "outputs": [],
   "source": [
    "# Select random record to test scoring\n",
    "df = %sql SELECT * FROM credit_trans.transactions ORDER BY RANDOM() LIMIT 5;\n",
    "df = df.DataFrame()\n",
    "df['posting_date'] = df['posting_date'].astype('str')\n",
    "df['transaction_date'] = df['transaction_date'].astype('str')\n",
    "js = json.dumps(json.loads(df.to_json(orient='records'))[2])\n",
    "print js"
   ]
  },
  {
   "cell_type": "markdown",
   "metadata": {},
   "source": [
    "### run the REST end point for prediction\n",
    "Please use the port from the above docker output"
   ]
  },
  {
   "cell_type": "code",
   "execution_count": null,
   "metadata": {},
   "outputs": [],
   "source": [
    "! curl -v -H \"Content-Type:application/json\" -X POST http://localhost:8494/predict  -d '{js}'"
   ]
  },
  {
   "cell_type": "markdown",
   "metadata": {},
   "source": [
    "## Undeploy model"
   ]
  },
  {
   "cell_type": "code",
   "execution_count": null,
   "metadata": {},
   "outputs": [],
   "source": [
    "! docker ps"
   ]
  },
  {
   "cell_type": "code",
   "execution_count": 83,
   "metadata": {},
   "outputs": [
    {
     "name": "stdout",
     "output_type": "stream",
     "text": [
      "deployName => credit_fraud\n",
      "un-deploying container credit_fraud_rts-for-madlib-model_1\n",
      "fa03c2387fe3\n",
      "fa03c2387fe3\n",
      "un-deploying container credit_fraud_rts-for-madlib-featuresengine_1\n",
      "385ef2eb0388\n",
      "385ef2eb0388\n",
      "un-deploying container credit_fraud_rts-for-madlib-mlmodelflow_1\n",
      "6133d189a8cf\n",
      "6133d189a8cf\n",
      "deployName => credit_fraud\n",
      "un-deploying container credit_fraud_rts-for-madlib-featurescachemanager_1\n",
      "4c10431e3163\n",
      "4c10431e3163\n"
     ]
    }
   ],
   "source": [
    "! rts4madlib --name credit_fraud --type flow --action undeploy --target docker \n",
    "! rts4madlib --name credit_fraud --type featurecache --action undeploy --target docker "
   ]
  },
  {
   "cell_type": "code",
   "execution_count": 84,
   "metadata": {},
   "outputs": [
    {
     "name": "stdout",
     "output_type": "stream",
     "text": [
      "CONTAINER ID        IMAGE               COMMAND                   CREATED             STATUS              PORTS                            NAMES\r\n",
      "2ad10245a5df        redis               \"docker-entrypoint.s…\"    2 hours ago         Up 2 hours          6379/tcp                         my-redis\r\n",
      "d1a1296fa7b3        gpdb5214:1.0        \"/bin/sh -c 'echo \\\"1…\"   11 hours ago        Up 11 hours         22/tcp, 0.0.0.0:9432->5432/tcp   beautiful_zhukovsky\r\n"
     ]
    }
   ],
   "source": [
    "!docker ps"
   ]
  },
  {
   "cell_type": "code",
   "execution_count": null,
   "metadata": {},
   "outputs": [],
   "source": []
  }
 ],
 "metadata": {
  "kernelspec": {
   "display_name": "Python 3",
   "language": "python",
   "name": "python3"
  },
  "language_info": {
   "codemirror_mode": {
    "name": "ipython",
    "version": 3
   },
   "file_extension": ".py",
   "mimetype": "text/x-python",
   "name": "python",
   "nbconvert_exporter": "python",
   "pygments_lexer": "ipython3",
   "version": "3.7.1"
  }
 },
 "nbformat": 4,
 "nbformat_minor": 2
}
