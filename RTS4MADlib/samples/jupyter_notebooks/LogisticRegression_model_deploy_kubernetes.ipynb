{
 "cells": [
  {
   "cell_type": "markdown",
   "metadata": {},
   "source": [
    "# RTSMADlib Demo\n",
    "\n",
    "## Logistic Regression Model Sample and Model deployment\n",
    "\n",
    "In this sample we demonstrate how to deploy a Apache MADlib model using RTSMADlib. We will use a simple supervised learning model Logistic regression sample explained on https://madlib.apache.org/docs/latest/group__grp__logreg.html.\n",
    "\n",
    "\n",
    "### Pre-Requisites\n",
    "1. A running instance of Greenplum with MADlib\n",
    "2. Modify database connection parameters whe we see place holders\n",
    "3. A runing insance of kubernetes environment\n",
    "\n",
    "### The notebook perform the below tasks\n",
    "\n",
    "1. Connect to greenplum and setup the session\n",
    "2. Create the schema and create all the tables needed, Load test the data to Greenpulm\n",
    "3. Build and train model\n",
    "4. Test Batch Score the model .\n",
    "5. Operationalize model with RTSMADlib\n",
    "6. Test Model REST Service\n",
    "7. Undeploy the Model container\n"
   ]
  },
  {
   "cell_type": "markdown",
   "metadata": {},
   "source": [
    "### Create SQL Connection to Greenplum"
   ]
  },
  {
   "cell_type": "code",
   "execution_count": null,
   "metadata": {},
   "outputs": [],
   "source": [
    "import psycopg2               # Python-PostgreSQL Database Adapter - https://pypi.python.org/pypi/psycopg2\n",
    "import pandas as pd           # Python Data Analysis Library - https://pandas.pydata.org/\n",
    "import math  \n",
    "import json\n",
    "\n",
    "%load_ext sql\n",
    "\n",
    "# PLEASE MODIFY THE BELOW AS PER YOUR GREENPLUM CLUSTER SETTINGS\n",
    "database_host = '35.196.46.152'\n",
    "database_databasename = 'gpadmin'\n",
    "database_username = 'gpadmin'\n",
    "database_password = 'qg7lGPyhxEQmj'\n",
    "database_port = '5432'\n",
    "\n",
    "try:\n",
    "    connString = \"host='{}' dbname='{}' user='{}' password='{}' port={}\".format(database_host,database_databasename,database_username,database_password,database_port)\n",
    "    # print connString\n",
    "    conn = psycopg2.connect(connString)\n",
    "    cur = conn.cursor()\n",
    "    conn.autocommit = True\n",
    "        \n",
    "    connection = 'postgresql://{}:{}@{}:{}/{}'.format(database_username,database_password,database_host,database_port,database_databasename)\n",
    "    %sql $connection\n",
    "\n",
    "    message = \"<span style='color:green'>**Connection successful!**</span>\"\n",
    "    print(message)\n",
    "except Exception as e:\n",
    "    message = \"<span style='color:red'>**ERROR: Unable to connect to the database ({})**</span>\".format(e)\n",
    "    print(message) "
   ]
  },
  {
   "cell_type": "markdown",
   "metadata": {},
   "source": [
    "### Create Schema"
   ]
  },
  {
   "cell_type": "code",
   "execution_count": null,
   "metadata": {},
   "outputs": [],
   "source": [
    "%%sql\n",
    "\n",
    "DO $$\n",
    "BEGIN\n",
    "\n",
    "    IF NOT EXISTS(\n",
    "        SELECT schema_name\n",
    "          FROM information_schema.schemata\n",
    "          WHERE schema_name = 'madlib_demo'\n",
    "      )\n",
    "    THEN\n",
    "      EXECUTE 'CREATE SCHEMA madlib_demo';\n",
    "    END IF;\n",
    "\n",
    "END\n",
    "$$;\n",
    "\n",
    "\n",
    "DROP TABLE IF EXISTS madlib_demo.patients;\n",
    "\n",
    "CREATE TABLE madlib_demo.patients( id INTEGER NOT NULL,\n",
    "                       second_attack INTEGER,\n",
    "                       treatment INTEGER,\n",
    "                       trait_anxiety INTEGER)\n",
    "DISTRIBUTED RANDOMLY;\n",
    "                      "
   ]
  },
  {
   "cell_type": "markdown",
   "metadata": {},
   "source": [
    "### Generate some test data."
   ]
  },
  {
   "cell_type": "code",
   "execution_count": null,
   "metadata": {},
   "outputs": [],
   "source": [
    "%%sql\n",
    "INSERT INTO madlib_demo.patients VALUES\n",
    "(1,  1, 1, 70),\n",
    "(2,  1, 1, 80),\n",
    "(3,  1, 1, 50),\n",
    "(4,  1, 0, 60),\n",
    "(5,  1, 0, 40),\n",
    "(6,  1, 0, 65),\n",
    "(7,  1, 0, 75),\n",
    "(8,  1, 0, 80),\n",
    "(9,  1, 0, 70),\n",
    "(10, 1, 0, 60),\n",
    "(11, 0, 1, 65),\n",
    "(12, 0, 1, 50),\n",
    "(13, 0, 1, 45),\n",
    "(14, 0, 1, 35),\n",
    "(15, 0, 1, 40),\n",
    "(16, 0, 1, 50),\n",
    "(17, 0, 0, 55),\n",
    "(18, 0, 0, 45),\n",
    "(19, 0, 0, 50),\n",
    "(20, 0, 0, 60);"
   ]
  },
  {
   "cell_type": "markdown",
   "metadata": {},
   "source": [
    "### Train a regression model"
   ]
  },
  {
   "cell_type": "code",
   "execution_count": null,
   "metadata": {},
   "outputs": [],
   "source": [
    "%%sql\n",
    "\n",
    "DROP TABLE IF EXISTS madlib_demo.patients_logregr;\n",
    "DROP TABLE IF EXISTS madlib_demo.patients_logregr_summary;\n",
    "\n",
    "SELECT madlib.logregr_train( 'madlib_demo.patients',                 -- Source table\n",
    "                             'madlib_demo.patients_logregr',         -- Output table\n",
    "                             'second_attack',                        -- Dependent variable\n",
    "                             'ARRAY[1, treatment, trait_anxiety]',   -- Feature vector\n",
    "                             NULL,                                   -- Grouping\n",
    "                             20,                                     -- Max iterations\n",
    "                             'irls'                                  -- Optimizer to use\n",
    "                           );\n",
    "\n",
    "SELECT * from madlib_demo.patients_logregr;"
   ]
  },
  {
   "cell_type": "code",
   "execution_count": null,
   "metadata": {},
   "outputs": [],
   "source": [
    "%%sql\n",
    "SELECT unnest(array['intercept', 'treatment', 'trait_anxiety']) as attribute,\n",
    "       unnest(coef) as coefficient,\n",
    "       unnest(std_err) as standard_error,\n",
    "       unnest(z_stats) as z_stat,\n",
    "       unnest(p_values) as pvalue,\n",
    "       unnest(odds_ratios) as odds_ratio\n",
    "    FROM madlib_demo.patients_logregr;"
   ]
  },
  {
   "cell_type": "markdown",
   "metadata": {},
   "source": [
    "### Predict the dependent variable using the logistic regression model. \n",
    "(This example uses the original data table to perform the prediction. Typically a different test dataset with the same features as the original training dataset would be used for prediction.)"
   ]
  },
  {
   "cell_type": "code",
   "execution_count": null,
   "metadata": {},
   "outputs": [],
   "source": [
    "%%sql\n",
    "-- Display prediction value along with the original value\n",
    "SELECT p.id, madlib.logregr_predict(coef, ARRAY[1, treatment, trait_anxiety]),\n",
    "       p.second_attack::BOOLEAN\n",
    "FROM madlib_demo.patients p, madlib_demo.patients_logregr m\n",
    "ORDER BY p.id;"
   ]
  },
  {
   "cell_type": "markdown",
   "metadata": {},
   "source": [
    "### Predict the probability of the dependent variable being TRUE."
   ]
  },
  {
   "cell_type": "code",
   "execution_count": null,
   "metadata": {},
   "outputs": [],
   "source": [
    "%%sql\n",
    "SELECT p.id, madlib.logregr_predict_prob(coef, ARRAY[1, treatment, trait_anxiety]),\n",
    "       p.second_attack::BOOLEAN\n",
    "FROM madlib_demo.patients p, madlib_demo.patients_logregr m\n",
    "ORDER BY p.id;"
   ]
  },
  {
   "cell_type": "markdown",
   "metadata": {},
   "source": [
    "# RTSMADlib\n",
    "\n",
    "## Operationalize the  model \n",
    "\n",
    "The MADlib model from Greenplum is containerized and deployed container management system. In this case we are using local docker environment. The rtsmadlib tool will take care of how to bundle, deploy and serve the model as REST endpoint."
   ]
  },
  {
   "cell_type": "code",
   "execution_count": null,
   "metadata": {},
   "outputs": [],
   "source": [
    "! source ~/.bash_profile\n",
    "! rts4madlib --help"
   ]
  },
  {
   "cell_type": "markdown",
   "metadata": {},
   "source": [
    "# Deployment manifest of Model"
   ]
  },
  {
   "cell_type": "code",
   "execution_count": null,
   "metadata": {},
   "outputs": [],
   "source": [
    "import json\n",
    "\n",
    "myconfig=json.dumps ({\n",
    "\t\"modeldb-datasource.jdbc-url\": \"jdbc:postgresql://35.196.46.152:5432/gpadmin\",\n",
    "    \"modeldb-datasource.userName\": \"gpadmin\",\n",
    "    \"modeldb-datasource.password\": \"qg7lGPyhxEQmj\",\n",
    "    \"madlibrest.modelname\": \"patients_data_Logistic_Regression\",\n",
    "    \"madlibrest.modeldescription\": \"Logistic Regression model predicting the patiens health.\",\n",
    "    \"madlibrest.modelschema\": \"madlib_demo\",\n",
    "    \"madlibrest.modeltables\": [\"patients_logregr\"],\n",
    "    \"madlibrest.modelinputtable\": \"patients\",\n",
    "    \"madlibrest.modelquery\": \"SELECT madlib.logregr_predict(coef, ARRAY[1, treatment, trait_anxiety]) ,  madlib.logregr_predict_prob(coef, ARRAY[1, treatment, trait_anxiety]) FROM madlib_demo.patients p, madlib_demo.patients_logregr\"\n",
    "    }\n",
    ")\n",
    "\n",
    "\n",
    "with open(\"model-config.json\", \"w\") as f:\n",
    "    f.write(myconfig)\n",
    "    "
   ]
  },
  {
   "cell_type": "markdown",
   "metadata": {},
   "source": [
    "# Deploy"
   ]
  },
  {
   "cell_type": "code",
   "execution_count": null,
   "metadata": {},
   "outputs": [],
   "source": [
    "! source ~/.bash_profile\n",
    "! rts4madlib --name patientslrm --action deploy --type madlib-model --target kubernetes --inputJson model-config.json"
   ]
  },
  {
   "cell_type": "code",
   "execution_count": null,
   "metadata": {
    "scrolled": true
   },
   "outputs": [],
   "source": [
    "! kubectl get all"
   ]
  },
  {
   "cell_type": "markdown",
   "metadata": {},
   "source": [
    "# Testing - RTSMADlib container\n",
    "The log files of deployment should show the service end points container. We use the endpoint to test. The below tests the information end point on the model container."
   ]
  },
  {
   "cell_type": "code",
   "execution_count": null,
   "metadata": {},
   "outputs": [],
   "source": [
    "! curl -v -H \"Content-Type:application/json\" http://35.227.34.60:8085/actuator/info"
   ]
  },
  {
   "cell_type": "code",
   "execution_count": null,
   "metadata": {},
   "outputs": [],
   "source": [
    "! curl -v -H \"Content-Type:application/json\" http://35.227.34.60:8085/predict -d '{ \"treatment\": 1, \"trait_anxiety\": 70}'"
   ]
  },
  {
   "cell_type": "markdown",
   "metadata": {},
   "source": [
    "# Undeploy Model"
   ]
  },
  {
   "cell_type": "code",
   "execution_count": null,
   "metadata": {},
   "outputs": [],
   "source": [
    "! source ~/.bash_profile\n",
    "! rts4madlib --name patientslrm --action undeploy --type madlib-model --target kubernetes"
   ]
  },
  {
   "cell_type": "code",
   "execution_count": null,
   "metadata": {},
   "outputs": [],
   "source": [
    "! kubectl get all "
   ]
  },
  {
   "cell_type": "markdown",
   "metadata": {},
   "source": [
    "# Thanks You!"
   ]
  },
  {
   "cell_type": "code",
   "execution_count": null,
   "metadata": {},
   "outputs": [],
   "source": []
  }
 ],
 "metadata": {
  "kernelspec": {
   "display_name": "Python 3",
   "language": "python",
   "name": "python3"
  },
  "language_info": {
   "codemirror_mode": {
    "name": "ipython",
    "version": 3
   },
   "file_extension": ".py",
   "mimetype": "text/x-python",
   "name": "python",
   "nbconvert_exporter": "python",
   "pygments_lexer": "ipython3",
   "version": "3.7.1"
  }
 },
 "nbformat": 4,
 "nbformat_minor": 2
}
